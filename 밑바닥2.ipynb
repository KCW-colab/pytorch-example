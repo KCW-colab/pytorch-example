{
  "nbformat": 4,
  "nbformat_minor": 0,
  "metadata": {
    "colab": {
      "name": "밑바닥2",
      "provenance": [],
      "collapsed_sections": [
        "Gq0ZAt6v5HXp",
        "goYE__qvQVft"
      ],
      "toc_visible": true,
      "mount_file_id": "1qmvcbV1IW_HI8b4PePRIxhS6Fgq5kf0L",
      "authorship_tag": "ABX9TyNHhu2b3md3blDQoAw9S3DL",
      "include_colab_link": true
    },
    "kernelspec": {
      "name": "python3",
      "display_name": "Python 3"
    }
  },
  "cells": [
    {
      "cell_type": "markdown",
      "metadata": {
        "id": "view-in-github",
        "colab_type": "text"
      },
      "source": [
        "<a href=\"https://colab.research.google.com/github/KCW-colab/pytorch-example/blob/master/%EB%B0%91%EB%B0%94%EB%8B%A52.ipynb\" target=\"_parent\"><img src=\"https://colab.research.google.com/assets/colab-badge.svg\" alt=\"Open In Colab\"/></a>"
      ]
    },
    {
      "cell_type": "markdown",
      "metadata": {
        "id": "XbGxUNFXuVQj",
        "colab_type": "text"
      },
      "source": [
        "행아웃 https://hangouts.google.com/call/H1BT80UlutUsEG3guXgpACEM"
      ]
    },
    {
      "cell_type": "markdown",
      "metadata": {
        "id": "Gq0ZAt6v5HXp",
        "colab_type": "text"
      },
      "source": [
        "### 1장 - 신경망 복습"
      ]
    },
    {
      "cell_type": "code",
      "metadata": {
        "id": "I_iXpOH0tCEC",
        "colab_type": "code",
        "colab": {
          "base_uri": "https://localhost:8080/",
          "height": 34
        },
        "outputId": "a57c7be9-228d-416d-ce40-d029f5bd10c7"
      },
      "source": [
        "import numpy as np\n",
        "x = np.array([1, 2, 3])\n",
        "x.__class__ # 클래스 이름 표시\n"
      ],
      "execution_count": null,
      "outputs": [
        {
          "output_type": "execute_result",
          "data": {
            "text/plain": [
              "numpy.ndarray"
            ]
          },
          "metadata": {
            "tags": []
          },
          "execution_count": 25
        }
      ]
    },
    {
      "cell_type": "code",
      "metadata": {
        "id": "PNHAo01L0MKr",
        "colab_type": "code",
        "colab": {
          "base_uri": "https://localhost:8080/",
          "height": 34
        },
        "outputId": "d00e473a-296b-4471-8ade-7302e9267237"
      },
      "source": [
        "x.shape"
      ],
      "execution_count": null,
      "outputs": [
        {
          "output_type": "execute_result",
          "data": {
            "text/plain": [
              "(3,)"
            ]
          },
          "metadata": {
            "tags": []
          },
          "execution_count": 26
        }
      ]
    },
    {
      "cell_type": "code",
      "metadata": {
        "id": "POHa_JbT0j-_",
        "colab_type": "code",
        "colab": {
          "base_uri": "https://localhost:8080/",
          "height": 34
        },
        "outputId": "25c5258a-1b60-43f7-837a-6e9a67c46215"
      },
      "source": [
        "x.ndim"
      ],
      "execution_count": null,
      "outputs": [
        {
          "output_type": "execute_result",
          "data": {
            "text/plain": [
              "1"
            ]
          },
          "metadata": {
            "tags": []
          },
          "execution_count": 27
        }
      ]
    },
    {
      "cell_type": "code",
      "metadata": {
        "id": "Bgp5ohkX0kvH",
        "colab_type": "code",
        "colab": {
          "base_uri": "https://localhost:8080/",
          "height": 34
        },
        "outputId": "8ce62fb4-c70e-4e57-eff5-d0f2ec2eedac"
      },
      "source": [
        "W = np.array([[1, 2, 3], [4, 5, 6]])\n",
        "W.shape"
      ],
      "execution_count": null,
      "outputs": [
        {
          "output_type": "execute_result",
          "data": {
            "text/plain": [
              "(2, 3)"
            ]
          },
          "metadata": {
            "tags": []
          },
          "execution_count": 28
        }
      ]
    },
    {
      "cell_type": "code",
      "metadata": {
        "id": "Pzvw5n7Z0orA",
        "colab_type": "code",
        "colab": {
          "base_uri": "https://localhost:8080/",
          "height": 34
        },
        "outputId": "0ee1c30d-2f15-495d-e589-281689ba747d"
      },
      "source": [
        "W.ndim"
      ],
      "execution_count": null,
      "outputs": [
        {
          "output_type": "execute_result",
          "data": {
            "text/plain": [
              "2"
            ]
          },
          "metadata": {
            "tags": []
          },
          "execution_count": 29
        }
      ]
    },
    {
      "cell_type": "code",
      "metadata": {
        "id": "1JlvLlwS0qD2",
        "colab_type": "code",
        "colab": {
          "base_uri": "https://localhost:8080/",
          "height": 87
        },
        "outputId": "5ade66f2-deef-44dd-bb16-a8bdd0149a6c"
      },
      "source": [
        "W = np.array([[1, 2, 3,], [4, 5, 6]])\n",
        "X = np.array([[0, 1, 2], [3, 4, 5]])\n",
        "print(W + X)\n",
        "print(W*X)"
      ],
      "execution_count": null,
      "outputs": [
        {
          "output_type": "stream",
          "text": [
            "[[ 1  3  5]\n",
            " [ 7  9 11]]\n",
            "[[ 0  2  6]\n",
            " [12 20 30]]\n"
          ],
          "name": "stdout"
        }
      ]
    },
    {
      "cell_type": "code",
      "metadata": {
        "id": "9c1VeHdD1rKQ",
        "colab_type": "code",
        "colab": {
          "base_uri": "https://localhost:8080/",
          "height": 52
        },
        "outputId": "ba19e7c2-4b54-4334-9bf5-316bc9b9a3f6"
      },
      "source": [
        "A = np.array([[1, 2], [3, 4]])\n",
        "A * 10"
      ],
      "execution_count": null,
      "outputs": [
        {
          "output_type": "execute_result",
          "data": {
            "text/plain": [
              "array([[10, 20],\n",
              "       [30, 40]])"
            ]
          },
          "metadata": {
            "tags": []
          },
          "execution_count": 31
        }
      ]
    },
    {
      "cell_type": "code",
      "metadata": {
        "id": "UnAmMdyf1vS4",
        "colab_type": "code",
        "colab": {
          "base_uri": "https://localhost:8080/",
          "height": 52
        },
        "outputId": "d68260c5-5f37-4722-dff2-8a546e6ebc21"
      },
      "source": [
        "b = np.array([10, 20])\n",
        "A * b"
      ],
      "execution_count": null,
      "outputs": [
        {
          "output_type": "execute_result",
          "data": {
            "text/plain": [
              "array([[10, 40],\n",
              "       [30, 80]])"
            ]
          },
          "metadata": {
            "tags": []
          },
          "execution_count": 32
        }
      ]
    },
    {
      "cell_type": "code",
      "metadata": {
        "id": "bch28YLU2CMO",
        "colab_type": "code",
        "colab": {
          "base_uri": "https://localhost:8080/",
          "height": 70
        },
        "outputId": "e2024d84-c187-4d32-c7cd-390a7ed2e882"
      },
      "source": [
        "# 벡터의 내적\n",
        "a = np.array([1, 2, 3])\n",
        "b = np.array([4, 5, 6])\n",
        "print(np.dot(a,b))\n",
        "\n",
        " # 행렬의 곱\n",
        "A = np.array([[1, 2], [3, 4]])\n",
        "B = np.array([[5, 6], [7, 8]])\n",
        "np.matmul(A, B)\n",
        "\n",
        "# 2차원 까지는 np.dot이나 matmul의 역할이 같음."
      ],
      "execution_count": null,
      "outputs": [
        {
          "output_type": "stream",
          "text": [
            "32\n"
          ],
          "name": "stdout"
        },
        {
          "output_type": "execute_result",
          "data": {
            "text/plain": [
              "array([[19, 22],\n",
              "       [43, 50]])"
            ]
          },
          "metadata": {
            "tags": []
          },
          "execution_count": 33
        }
      ]
    },
    {
      "cell_type": "code",
      "metadata": {
        "id": "-yKqW4Zm28cu",
        "colab_type": "code",
        "colab": {
          "base_uri": "https://localhost:8080/",
          "height": 34
        },
        "outputId": "674359d2-59e6-4576-d7a0-84cd960404ae"
      },
      "source": [
        "import numpy as np\n",
        "W1 = np.random.randn(2, 4) # 가중치\n",
        "b1 = np.random.randn(4) # 편향\n",
        "x = np.random.randn(10, 2) # 입력\n",
        "h = np.matmul(x, W1) + b1\n",
        "print(h.shape)"
      ],
      "execution_count": null,
      "outputs": [
        {
          "output_type": "stream",
          "text": [
            "(10, 4)\n"
          ],
          "name": "stdout"
        }
      ]
    },
    {
      "cell_type": "code",
      "metadata": {
        "id": "hDCirWiZ4Izj",
        "colab_type": "code",
        "colab": {}
      },
      "source": [
        "def sigmoid(x):\n",
        "  return 1 / ( 1+ np.exp(-x))\n"
      ],
      "execution_count": null,
      "outputs": []
    },
    {
      "cell_type": "code",
      "metadata": {
        "id": "mBreFgt94563",
        "colab_type": "code",
        "colab": {}
      },
      "source": [
        "a = sigmoid(h)"
      ],
      "execution_count": null,
      "outputs": []
    },
    {
      "cell_type": "code",
      "metadata": {
        "id": "7NCwSWkl49QX",
        "colab_type": "code",
        "colab": {
          "base_uri": "https://localhost:8080/",
          "height": 34
        },
        "outputId": "ac219536-dd87-43d5-f1f2-1c033686396f"
      },
      "source": [
        "import numpy as np\n",
        "\n",
        "def sigmoid(x):\n",
        "  return 1 / (1 + np.exp(-x))\n",
        "\n",
        "x = np.random.randn(10, 2) \n",
        "W1 = np.random.randn(2, 4) \n",
        "b1 = np.random.randn(4)\n",
        "W2 = np.random.randn(4, 3) \n",
        "b2 = np.random.randn(3)\n",
        "\n",
        "h = np.matmul(x, W1) + b1\n",
        "a = sigmoid(h)\n",
        "s = np.matmul(a, W2) + b2\n",
        "print(s.shape)"
      ],
      "execution_count": null,
      "outputs": [
        {
          "output_type": "stream",
          "text": [
            "(10, 3)\n"
          ],
          "name": "stdout"
        }
      ]
    },
    {
      "cell_type": "code",
      "metadata": {
        "id": "6Ls93tO35Z_r",
        "colab_type": "code",
        "colab": {}
      },
      "source": [
        "import numpy as np\n",
        "class Sigmoid:\n",
        "  def __init__(self):\n",
        "    self.params=[]\n",
        "\n",
        "  def forward(self, x):\n",
        "    return 1 / ( 1+ np.exp(-x))\n",
        "\n",
        "class Affine:\n",
        "  def __init__(self, W, b):\n",
        "    self.params = [W, b]\n",
        "\n",
        "  def forward(self, x):\n",
        "    W, b = self.params\n",
        "    out = np.matmul(x, W) + b\n",
        "    return out"
      ],
      "execution_count": null,
      "outputs": []
    },
    {
      "cell_type": "code",
      "metadata": {
        "id": "CnuivKye6u3R",
        "colab_type": "code",
        "colab": {}
      },
      "source": [
        "class TwoLayerNet:\n",
        "  def __init__(self, input_size, hidden_size, output_size):\n",
        "    I, H, O = input_size, hidden_size, output_size\n",
        "\n",
        "    # 가중치와 편향 초기화\n",
        "    W1 = np.random.randn(I, H)\n",
        "    b1 = np.random.randn(H)\n",
        "    W2 = np.random.randn(H, O)\n",
        "    b2 = np.random.randn(O)\n",
        "\n",
        "    # 게층 생성\n",
        "    self.layers = [Affine(W1, b1), Sigmoid(), Affine(W2, b2)]\n",
        "\n",
        "    # 모든 가중치를 리스트에 모은다.\n",
        "    self.params=[]\n",
        "    for layer in self.layers:\n",
        "      self.params += layer.params\n",
        "\n",
        "  def predict(self, x):\n",
        "    for layer in self.layers:\n",
        "      x = layer.forward(x)\n",
        "    return x\n"
      ],
      "execution_count": null,
      "outputs": []
    },
    {
      "cell_type": "code",
      "metadata": {
        "id": "Vkg405qs8CCk",
        "colab_type": "code",
        "colab": {
          "base_uri": "https://localhost:8080/",
          "height": 34
        },
        "outputId": "d6f14f00-2964-451f-fb46-3a098ade4f13"
      },
      "source": [
        "x = np.random.randn(10, 2)\n",
        "model = TwoLayerNet(2, 4, 3)\n",
        "s = model.predict(x)\n",
        "print(s.shape)"
      ],
      "execution_count": null,
      "outputs": [
        {
          "output_type": "stream",
          "text": [
            "(10, 3)\n"
          ],
          "name": "stdout"
        }
      ]
    },
    {
      "cell_type": "code",
      "metadata": {
        "id": "t9PoK-sN9KZO",
        "colab_type": "code",
        "colab": {}
      },
      "source": [
        "import numpy as np\n",
        "D, N  = 8 , 7\n",
        "x = np.random.randn(1, D) # 입력\n",
        "y = np.repeat(x, N, axis = 0) # 순전파  # 원소 복제를 시행하는 numpy의 함수 (x 를 N번 복제하는데 세로방향으로 복제함.)\n",
        "# y.shape = (7,8)\n",
        "dy = np.random.randn(N, D) # 무작위 기울기\n",
        "dx = np.sum(dy, axis = 0, keepdims=True) # 역전파 # 2차원 유지를 위해 keepdims = True로 둠."
      ],
      "execution_count": null,
      "outputs": []
    },
    {
      "cell_type": "code",
      "metadata": {
        "id": "-si--2GXE6vk",
        "colab_type": "code",
        "colab": {}
      },
      "source": [
        "import numpy as np\n",
        "D, N = 8, 7\n",
        "x = np.random.randn(N, D) # 입력\n",
        "y = np.sum(x, axis = 0, keepdims = True) # 순전파\n",
        "dy = np.random.randn(1, D) # 무작위 기울기\n",
        "dx = np.repeat(dy, N, axis=0) # 역전파\n",
        "# Sum 노드와 repeat 노드는 반대관계임.\n",
        "# ex) Sum 노드의 순전파 => repeat 노드의 역전파"
      ],
      "execution_count": null,
      "outputs": []
    },
    {
      "cell_type": "code",
      "metadata": {
        "id": "rptCDofyFmI6",
        "colab_type": "code",
        "colab": {}
      },
      "source": [
        "class MatMul:\n",
        "  def __init__(self, W):\n",
        "    self.params = [W]\n",
        "    self.grads = [np.zeros_like(W)]\n",
        "    self.x = None\n",
        "  \n",
        "  def forward(self, x):\n",
        "    W, = self.params\n",
        "    out = np.matmul(x, W)\n",
        "    self.x = x\n",
        "    return out\n",
        "\n",
        "  def backward(self, dout):\n",
        "    W, = self.params\n",
        "    dx = np.matmul(dout, W.T)\n",
        "    dW = np.matmul(self.x.T, dout)\n",
        "    self.grads[0][...] = dW\n",
        "    return dx"
      ],
      "execution_count": null,
      "outputs": []
    },
    {
      "cell_type": "code",
      "metadata": {
        "id": "Hrtq_N8dGt2v",
        "colab_type": "code",
        "colab": {
          "base_uri": "https://localhost:8080/",
          "height": 70
        },
        "outputId": "6ef3f528-91a9-4cc3-bd02-1fb7a959907a"
      },
      "source": [
        "'''\n",
        "얕은 복사는 본품의 메모리값을 복사하는 것임.\n",
        "깊은 복사는 본품의 숫자 자체를 복사해오는 것\n",
        "\n",
        "얕은 복사 종류\n",
        "list1 = [1, 2, 3]\n",
        "list2 = list1\n",
        "\n",
        "깊은 복사 종류\n",
        "list2 = list1[:]\n",
        "list2 = list1.copy\n",
        "'''\n"
      ],
      "execution_count": null,
      "outputs": [
        {
          "output_type": "execute_result",
          "data": {
            "application/vnd.google.colaboratory.intrinsic+json": {
              "type": "string"
            },
            "text/plain": [
              "'\\n얕은 복사는 본품의 메모리값을 복사하는 것임.\\n깊은 복사는 본품의 숫자 자체를 복사해오는 것\\n\\n얕은 복사 종류\\nlist1 = [1, 2, 3]\\nlist2 = list1\\n\\n깊은 복사 종류\\nlist2 = list1[:]\\nlist2 = list1.copy\\n'"
            ]
          },
          "metadata": {
            "tags": []
          },
          "execution_count": 44
        }
      ]
    },
    {
      "cell_type": "code",
      "metadata": {
        "id": "j1eU4nilIJ3b",
        "colab_type": "code",
        "colab": {}
      },
      "source": [
        "class Sigmoid:\n",
        "  def __init__(self):\n",
        "    self.params, self.grads = [], []\n",
        "    self.out = None\n",
        "\n",
        "  def forward(self, x):\n",
        "    out = 1 / (1 + np.exp(-x))\n",
        "    self.out = out\n",
        "    return out\n",
        "\n",
        "  def backward(self, dout):\n",
        "    dx = dout * (1.0 - self.out) * self.out\n",
        "    return out"
      ],
      "execution_count": null,
      "outputs": []
    },
    {
      "cell_type": "code",
      "metadata": {
        "id": "EnhI1irdIqnU",
        "colab_type": "code",
        "colab": {}
      },
      "source": [
        "class Affine:\n",
        "  def __init__(self, W, b):\n",
        "    self.params = [W, b]\n",
        "    self.grads = [np.zeros_like(W), np.zeros_like(b)]\n",
        "    self.x = None\n",
        "\n",
        "  def forward(self, x):\n",
        "    W, b = self.params\n",
        "    out = np.matmul(x, W) + b\n",
        "    self.x = x\n",
        "    return out\n",
        "\n",
        "  def backward(self, dout):\n",
        "    W, b = self.params\n",
        "    dx = np.matmul(dout, W.T)\n",
        "    dW = np.matmul(self.x.T, dout)\n",
        "    db = np.sum(dout, axis = 0)\n",
        "\n",
        "    self.grads[0][...] = dW\n",
        "    self.grads[1][...] = db\n",
        "    return dx"
      ],
      "execution_count": null,
      "outputs": []
    },
    {
      "cell_type": "code",
      "metadata": {
        "id": "82M6OnzHKGSj",
        "colab_type": "code",
        "colab": {}
      },
      "source": [
        "class SGD:\n",
        "  def __init__(self, lr=0.01):\n",
        "    self.lr = lr\n",
        "\n",
        "  def update(self, params, grads):\n",
        "    for i in range(len(params)):\n",
        "      params[i] -= self.lr * grads[i]"
      ],
      "execution_count": null,
      "outputs": []
    },
    {
      "cell_type": "code",
      "metadata": {
        "id": "PjQDfoLDK2fE",
        "colab_type": "code",
        "colab": {
          "base_uri": "https://localhost:8080/",
          "height": 88
        },
        "outputId": "0204c60c-8a9b-4650-98db-4ecacc7e0ffa"
      },
      "source": [
        "import sys, os\n",
        "os.chdir(\"/content/drive/My Drive/Colab Notebooks/deep-learning-from-scratch-2-master/deep-learning-from-scratch-2-master\")\n",
        "sys.path.append(os.pardir)\n",
        "\n",
        "\n",
        "from dataset import spiral\n",
        "import matplotlib.pyplot as plt\n",
        "\n",
        "x,t = spiral.load_data()\n",
        "print('x', x.shape) # (300, 2)\n",
        "print('t', t.shape) # (300, 3)\n",
        "\n",
        "'''\n",
        "# 데이터점 플롯\n",
        "N = 100\n",
        "CLS_NUM = 3\n",
        "markers = ['o', 'x', '^']\n",
        "for i in range(CLS_NUM):\n",
        "    plt.scatter(x[i*N:(i+1)*N, 0], x[i*N:(i+1)*N, 1], s=40, marker=markers[i])\n",
        "plt.show()\n",
        "'''\n"
      ],
      "execution_count": null,
      "outputs": [
        {
          "output_type": "stream",
          "text": [
            "x (300, 2)\n",
            "t (300, 3)\n"
          ],
          "name": "stdout"
        },
        {
          "output_type": "execute_result",
          "data": {
            "application/vnd.google.colaboratory.intrinsic+json": {
              "type": "string"
            },
            "text/plain": [
              "\"\\n# 데이터점 플롯\\nN = 100\\nCLS_NUM = 3\\nmarkers = ['o', 'x', '^']\\nfor i in range(CLS_NUM):\\n    plt.scatter(x[i*N:(i+1)*N, 0], x[i*N:(i+1)*N, 1], s=40, marker=markers[i])\\nplt.show()\\n\""
            ]
          },
          "metadata": {
            "tags": []
          },
          "execution_count": 48
        }
      ]
    },
    {
      "cell_type": "code",
      "metadata": {
        "id": "ga7r1t2C5PT_",
        "colab_type": "code",
        "colab": {}
      },
      "source": [
        "import sys, os\n",
        "os.chdir(\"/content/drive/My Drive/Colab Notebooks/deep-learning-from-scratch-2-master/deep-learning-from-scratch-2-master\")\n",
        "sys.path.append(os.pardir)\n",
        "import numpy as np\n",
        "from common.layers import Affine, Sigmoid, SoftmaxWithLoss\n",
        "\n",
        "class TwoLayerNet:\n",
        "  def __init__(self, input_size, hidden_size, output_size):\n",
        "    I, H, O = input_size, hidden_size, output_size\n",
        "\n",
        "    # 가중치와 편향 초기화\n",
        "    W1 = 0.01 * np.random.randn(I, H)\n",
        "    b1 = np.zeros(H)\n",
        "    W2 = 0.01 * np.random.randn(H, O)\n",
        "    b2 = np.zeros(0)\n",
        "\n",
        "    # 계층 생성\n",
        "    self.layers = [Affine(W1, b1), Sigmoid(), Affine(W2, b2)]\n",
        "    self.loss_layer = SoftmaxWithLoss()\n",
        "\n",
        "    # 모든 가중치와 기울기를 리스트에 모은다.\n",
        "    self.params, self.grads = [], []\n",
        "    for layer in self.layers:\n",
        "      self.params += layer.params\n",
        "      self.grads += layer.grads\n",
        "\n",
        "  def predict(self, x):\n",
        "    for layer in self.layers:\n",
        "      x = layer.forward(x)\n",
        "    return x\n",
        "\n",
        "  def forward(self, x, t):\n",
        "    score = self.predict(x)\n",
        "    loss = self.loss_layer.forward(score, t)\n",
        "    return loss\n",
        "\n",
        "\n",
        "  def backward(self, dout = 1):\n",
        "    dout = self.loss_layer.backward(dout)\n",
        "    for layer in reversed(self.layers):\n",
        "      dout = layer.backward(dout)\n",
        "    return dout"
      ],
      "execution_count": null,
      "outputs": []
    },
    {
      "cell_type": "code",
      "metadata": {
        "id": "ePuS_Ue19iil",
        "colab_type": "code",
        "colab": {
          "base_uri": "https://localhost:8080/",
          "height": 1000
        },
        "outputId": "b8591f2a-1f85-4c13-f639-56c4b89b341c"
      },
      "source": [
        "import sys, os\n",
        "os.chdir(\"/content/drive/My Drive/Colab Notebooks/deep-learning-from-scratch-2-master/deep-learning-from-scratch-2-master\")\n",
        "os.chdir(\"/content/drive/My Drive/Colab Notebooks/deep-learning-from-scratch-2-master/deep-learning-from-scratch-2-master/ch01\")\n",
        "sys.path.append(os.pardir)\n",
        "import numpy as np\n",
        "from common.optimizer import SGD\n",
        "from dataset import spiral\n",
        "import matplotlib.pyplot as plt\n",
        "from two_layer_net import TwoLayerNet\n",
        "\n",
        "# 하이퍼파라미터 설정\n",
        "max_epoch = 300 # 학습하는 에폭 수\n",
        "batch_size = 30 # 미니배치 크기\n",
        "hidden_size = 10 # 은닉층의 뉴런 수\n",
        "learning_rate = 1.0 # 학습률\n",
        "\n",
        "\n",
        "x, t = spiral.load_data()\n",
        "# 데이터 읽기\n",
        "model = TwoLayerNet(input_size = 2, hidden_size = hidden_size, output_size = 3)\n",
        "# 신경망 모델 생성\n",
        "optimizer = SGD(lr = learning_rate)\n",
        "# SGD 모델 생성\n",
        "# 에폭은 학습 단위로서, 1에폭은 학습 데이터를 모두 '살펴본' 시점.\n",
        "\n",
        "# 학습에 사용하는 변수\n",
        "data_size = len(x)\n",
        "max_iters = data_size // batch_size  # // 연산자는 나눗셈 후 소숫점을 버리는 연산자.\n",
        "total_loss = 0\n",
        "loss_count = 0\n",
        "loss_list = []\n",
        "\n",
        "for epoch in range(max_epoch):\n",
        "  # 데이터 뒤섞기\n",
        "  idx = np.random.permutation(data_size)\n",
        "  x = x[idx]\n",
        "  t = t[idx]\n",
        "\n",
        "  for iters in range(max_iters):\n",
        "    batch_x = x[iters*batch_size:(iters+1)*batch_size]\n",
        "    batch_t = t[iters*batch_size:(iters+1)*batch_size]\n",
        "\n",
        "  # 기울기를 구해 매개변수 갱신\n",
        "    loss = model.forward(batch_x, batch_t)\n",
        "    model.backward()\n",
        "    optimizer.update(model.params, model.grads)\n",
        "\n",
        "  # 역전파 순전파를 이용해서 기울기들을 모두저장\n",
        "\n",
        "    total_loss += loss\n",
        "    loss_count += 1\n",
        "\n",
        "  \n",
        "\n",
        "  # 정기적으로 학습 경과 출력\n",
        "    if (iters+1) % 10 == 0:\n",
        "      avg_loss = total_loss / loss_count\n",
        "      print('|에폭 %d| 반복 %d / %d | 손실 %.2f' %(epoch+1, iters+1, max_iters, avg_loss))\n",
        "      loss_list.append(avg_loss)\n",
        "      total_loss, loss_count = 0, 0\n",
        "\n",
        "# 학습 결과 플롯\n",
        "plt.plot(np.arange(len(loss_list)), loss_list, label='train')\n",
        "plt.xlabel('반복 (x10)')\n",
        "plt.ylabel('손실')\n",
        "plt.show()"
      ],
      "execution_count": null,
      "outputs": [
        {
          "output_type": "stream",
          "text": [
            "|에폭 1| 반복 10 / 10 | 손실 1.13\n",
            "|에폭 2| 반복 10 / 10 | 손실 1.13\n",
            "|에폭 3| 반복 10 / 10 | 손실 1.12\n",
            "|에폭 4| 반복 10 / 10 | 손실 1.12\n",
            "|에폭 5| 반복 10 / 10 | 손실 1.11\n",
            "|에폭 6| 반복 10 / 10 | 손실 1.14\n",
            "|에폭 7| 반복 10 / 10 | 손실 1.16\n",
            "|에폭 8| 반복 10 / 10 | 손실 1.11\n",
            "|에폭 9| 반복 10 / 10 | 손실 1.12\n",
            "|에폭 10| 반복 10 / 10 | 손실 1.13\n",
            "|에폭 11| 반복 10 / 10 | 손실 1.12\n",
            "|에폭 12| 반복 10 / 10 | 손실 1.11\n",
            "|에폭 13| 반복 10 / 10 | 손실 1.09\n",
            "|에폭 14| 반복 10 / 10 | 손실 1.08\n",
            "|에폭 15| 반복 10 / 10 | 손실 1.04\n",
            "|에폭 16| 반복 10 / 10 | 손실 1.03\n",
            "|에폭 17| 반복 10 / 10 | 손실 0.96\n",
            "|에폭 18| 반복 10 / 10 | 손실 0.92\n",
            "|에폭 19| 반복 10 / 10 | 손실 0.92\n",
            "|에폭 20| 반복 10 / 10 | 손실 0.87\n",
            "|에폭 21| 반복 10 / 10 | 손실 0.85\n",
            "|에폭 22| 반복 10 / 10 | 손실 0.82\n",
            "|에폭 23| 반복 10 / 10 | 손실 0.79\n",
            "|에폭 24| 반복 10 / 10 | 손실 0.78\n",
            "|에폭 25| 반복 10 / 10 | 손실 0.82\n",
            "|에폭 26| 반복 10 / 10 | 손실 0.78\n",
            "|에폭 27| 반복 10 / 10 | 손실 0.76\n",
            "|에폭 28| 반복 10 / 10 | 손실 0.76\n",
            "|에폭 29| 반복 10 / 10 | 손실 0.78\n",
            "|에폭 30| 반복 10 / 10 | 손실 0.75\n",
            "|에폭 31| 반복 10 / 10 | 손실 0.78\n",
            "|에폭 32| 반복 10 / 10 | 손실 0.77\n",
            "|에폭 33| 반복 10 / 10 | 손실 0.77\n",
            "|에폭 34| 반복 10 / 10 | 손실 0.78\n",
            "|에폭 35| 반복 10 / 10 | 손실 0.75\n",
            "|에폭 36| 반복 10 / 10 | 손실 0.74\n",
            "|에폭 37| 반복 10 / 10 | 손실 0.76\n",
            "|에폭 38| 반복 10 / 10 | 손실 0.76\n",
            "|에폭 39| 반복 10 / 10 | 손실 0.73\n",
            "|에폭 40| 반복 10 / 10 | 손실 0.75\n",
            "|에폭 41| 반복 10 / 10 | 손실 0.76\n",
            "|에폭 42| 반복 10 / 10 | 손실 0.76\n",
            "|에폭 43| 반복 10 / 10 | 손실 0.76\n",
            "|에폭 44| 반복 10 / 10 | 손실 0.74\n",
            "|에폭 45| 반복 10 / 10 | 손실 0.75\n",
            "|에폭 46| 반복 10 / 10 | 손실 0.73\n",
            "|에폭 47| 반복 10 / 10 | 손실 0.72\n",
            "|에폭 48| 반복 10 / 10 | 손실 0.73\n",
            "|에폭 49| 반복 10 / 10 | 손실 0.72\n",
            "|에폭 50| 반복 10 / 10 | 손실 0.72\n",
            "|에폭 51| 반복 10 / 10 | 손실 0.72\n",
            "|에폭 52| 반복 10 / 10 | 손실 0.72\n",
            "|에폭 53| 반복 10 / 10 | 손실 0.74\n",
            "|에폭 54| 반복 10 / 10 | 손실 0.74\n",
            "|에폭 55| 반복 10 / 10 | 손실 0.72\n",
            "|에폭 56| 반복 10 / 10 | 손실 0.72\n",
            "|에폭 57| 반복 10 / 10 | 손실 0.71\n",
            "|에폭 58| 반복 10 / 10 | 손실 0.70\n",
            "|에폭 59| 반복 10 / 10 | 손실 0.72\n",
            "|에폭 60| 반복 10 / 10 | 손실 0.70\n",
            "|에폭 61| 반복 10 / 10 | 손실 0.71\n",
            "|에폭 62| 반복 10 / 10 | 손실 0.72\n",
            "|에폭 63| 반복 10 / 10 | 손실 0.70\n",
            "|에폭 64| 반복 10 / 10 | 손실 0.71\n",
            "|에폭 65| 반복 10 / 10 | 손실 0.73\n",
            "|에폭 66| 반복 10 / 10 | 손실 0.70\n",
            "|에폭 67| 반복 10 / 10 | 손실 0.71\n",
            "|에폭 68| 반복 10 / 10 | 손실 0.69\n",
            "|에폭 69| 반복 10 / 10 | 손실 0.70\n",
            "|에폭 70| 반복 10 / 10 | 손실 0.71\n",
            "|에폭 71| 반복 10 / 10 | 손실 0.68\n",
            "|에폭 72| 반복 10 / 10 | 손실 0.69\n",
            "|에폭 73| 반복 10 / 10 | 손실 0.67\n",
            "|에폭 74| 반복 10 / 10 | 손실 0.68\n",
            "|에폭 75| 반복 10 / 10 | 손실 0.67\n",
            "|에폭 76| 반복 10 / 10 | 손실 0.66\n",
            "|에폭 77| 반복 10 / 10 | 손실 0.69\n",
            "|에폭 78| 반복 10 / 10 | 손실 0.64\n",
            "|에폭 79| 반복 10 / 10 | 손실 0.68\n",
            "|에폭 80| 반복 10 / 10 | 손실 0.64\n",
            "|에폭 81| 반복 10 / 10 | 손실 0.64\n",
            "|에폭 82| 반복 10 / 10 | 손실 0.66\n",
            "|에폭 83| 반복 10 / 10 | 손실 0.62\n",
            "|에폭 84| 반복 10 / 10 | 손실 0.62\n",
            "|에폭 85| 반복 10 / 10 | 손실 0.61\n",
            "|에폭 86| 반복 10 / 10 | 손실 0.60\n",
            "|에폭 87| 반복 10 / 10 | 손실 0.60\n",
            "|에폭 88| 반복 10 / 10 | 손실 0.61\n",
            "|에폭 89| 반복 10 / 10 | 손실 0.59\n",
            "|에폭 90| 반복 10 / 10 | 손실 0.58\n",
            "|에폭 91| 반복 10 / 10 | 손실 0.56\n",
            "|에폭 92| 반복 10 / 10 | 손실 0.56\n",
            "|에폭 93| 반복 10 / 10 | 손실 0.54\n",
            "|에폭 94| 반복 10 / 10 | 손실 0.53\n",
            "|에폭 95| 반복 10 / 10 | 손실 0.53\n",
            "|에폭 96| 반복 10 / 10 | 손실 0.52\n",
            "|에폭 97| 반복 10 / 10 | 손실 0.51\n",
            "|에폭 98| 반복 10 / 10 | 손실 0.50\n",
            "|에폭 99| 반복 10 / 10 | 손실 0.48\n",
            "|에폭 100| 반복 10 / 10 | 손실 0.48\n",
            "|에폭 101| 반복 10 / 10 | 손실 0.46\n",
            "|에폭 102| 반복 10 / 10 | 손실 0.45\n",
            "|에폭 103| 반복 10 / 10 | 손실 0.45\n",
            "|에폭 104| 반복 10 / 10 | 손실 0.44\n",
            "|에폭 105| 반복 10 / 10 | 손실 0.44\n",
            "|에폭 106| 반복 10 / 10 | 손실 0.41\n",
            "|에폭 107| 반복 10 / 10 | 손실 0.40\n",
            "|에폭 108| 반복 10 / 10 | 손실 0.41\n",
            "|에폭 109| 반복 10 / 10 | 손실 0.40\n",
            "|에폭 110| 반복 10 / 10 | 손실 0.40\n",
            "|에폭 111| 반복 10 / 10 | 손실 0.38\n",
            "|에폭 112| 반복 10 / 10 | 손실 0.38\n",
            "|에폭 113| 반복 10 / 10 | 손실 0.36\n",
            "|에폭 114| 반복 10 / 10 | 손실 0.37\n",
            "|에폭 115| 반복 10 / 10 | 손실 0.35\n",
            "|에폭 116| 반복 10 / 10 | 손실 0.34\n",
            "|에폭 117| 반복 10 / 10 | 손실 0.34\n",
            "|에폭 118| 반복 10 / 10 | 손실 0.34\n",
            "|에폭 119| 반복 10 / 10 | 손실 0.33\n",
            "|에폭 120| 반복 10 / 10 | 손실 0.34\n",
            "|에폭 121| 반복 10 / 10 | 손실 0.32\n",
            "|에폭 122| 반복 10 / 10 | 손실 0.32\n",
            "|에폭 123| 반복 10 / 10 | 손실 0.31\n",
            "|에폭 124| 반복 10 / 10 | 손실 0.31\n",
            "|에폭 125| 반복 10 / 10 | 손실 0.30\n",
            "|에폭 126| 반복 10 / 10 | 손실 0.30\n",
            "|에폭 127| 반복 10 / 10 | 손실 0.28\n",
            "|에폭 128| 반복 10 / 10 | 손실 0.28\n",
            "|에폭 129| 반복 10 / 10 | 손실 0.28\n",
            "|에폭 130| 반복 10 / 10 | 손실 0.28\n",
            "|에폭 131| 반복 10 / 10 | 손실 0.27\n",
            "|에폭 132| 반복 10 / 10 | 손실 0.27\n",
            "|에폭 133| 반복 10 / 10 | 손실 0.27\n",
            "|에폭 134| 반복 10 / 10 | 손실 0.27\n",
            "|에폭 135| 반복 10 / 10 | 손실 0.27\n",
            "|에폭 136| 반복 10 / 10 | 손실 0.26\n",
            "|에폭 137| 반복 10 / 10 | 손실 0.26\n",
            "|에폭 138| 반복 10 / 10 | 손실 0.26\n",
            "|에폭 139| 반복 10 / 10 | 손실 0.25\n",
            "|에폭 140| 반복 10 / 10 | 손실 0.24\n",
            "|에폭 141| 반복 10 / 10 | 손실 0.24\n",
            "|에폭 142| 반복 10 / 10 | 손실 0.25\n",
            "|에폭 143| 반복 10 / 10 | 손실 0.24\n",
            "|에폭 144| 반복 10 / 10 | 손실 0.24\n",
            "|에폭 145| 반복 10 / 10 | 손실 0.23\n",
            "|에폭 146| 반복 10 / 10 | 손실 0.24\n",
            "|에폭 147| 반복 10 / 10 | 손실 0.23\n",
            "|에폭 148| 반복 10 / 10 | 손실 0.23\n",
            "|에폭 149| 반복 10 / 10 | 손실 0.22\n",
            "|에폭 150| 반복 10 / 10 | 손실 0.22\n",
            "|에폭 151| 반복 10 / 10 | 손실 0.22\n",
            "|에폭 152| 반복 10 / 10 | 손실 0.22\n",
            "|에폭 153| 반복 10 / 10 | 손실 0.22\n",
            "|에폭 154| 반복 10 / 10 | 손실 0.22\n",
            "|에폭 155| 반복 10 / 10 | 손실 0.22\n",
            "|에폭 156| 반복 10 / 10 | 손실 0.21\n",
            "|에폭 157| 반복 10 / 10 | 손실 0.21\n",
            "|에폭 158| 반복 10 / 10 | 손실 0.20\n",
            "|에폭 159| 반복 10 / 10 | 손실 0.21\n",
            "|에폭 160| 반복 10 / 10 | 손실 0.20\n",
            "|에폭 161| 반복 10 / 10 | 손실 0.20\n",
            "|에폭 162| 반복 10 / 10 | 손실 0.20\n",
            "|에폭 163| 반복 10 / 10 | 손실 0.21\n",
            "|에폭 164| 반복 10 / 10 | 손실 0.20\n",
            "|에폭 165| 반복 10 / 10 | 손실 0.20\n",
            "|에폭 166| 반복 10 / 10 | 손실 0.19\n",
            "|에폭 167| 반복 10 / 10 | 손실 0.19\n",
            "|에폭 168| 반복 10 / 10 | 손실 0.19\n",
            "|에폭 169| 반복 10 / 10 | 손실 0.19\n",
            "|에폭 170| 반복 10 / 10 | 손실 0.19\n",
            "|에폭 171| 반복 10 / 10 | 손실 0.19\n",
            "|에폭 172| 반복 10 / 10 | 손실 0.18\n",
            "|에폭 173| 반복 10 / 10 | 손실 0.18\n",
            "|에폭 174| 반복 10 / 10 | 손실 0.18\n",
            "|에폭 175| 반복 10 / 10 | 손실 0.18\n",
            "|에폭 176| 반복 10 / 10 | 손실 0.18\n",
            "|에폭 177| 반복 10 / 10 | 손실 0.18\n",
            "|에폭 178| 반복 10 / 10 | 손실 0.18\n",
            "|에폭 179| 반복 10 / 10 | 손실 0.17\n",
            "|에폭 180| 반복 10 / 10 | 손실 0.17\n",
            "|에폭 181| 반복 10 / 10 | 손실 0.18\n",
            "|에폭 182| 반복 10 / 10 | 손실 0.17\n",
            "|에폭 183| 반복 10 / 10 | 손실 0.18\n",
            "|에폭 184| 반복 10 / 10 | 손실 0.17\n",
            "|에폭 185| 반복 10 / 10 | 손실 0.17\n",
            "|에폭 186| 반복 10 / 10 | 손실 0.18\n",
            "|에폭 187| 반복 10 / 10 | 손실 0.17\n",
            "|에폭 188| 반복 10 / 10 | 손실 0.17\n",
            "|에폭 189| 반복 10 / 10 | 손실 0.17\n",
            "|에폭 190| 반복 10 / 10 | 손실 0.17\n",
            "|에폭 191| 반복 10 / 10 | 손실 0.16\n",
            "|에폭 192| 반복 10 / 10 | 손실 0.17\n",
            "|에폭 193| 반복 10 / 10 | 손실 0.16\n",
            "|에폭 194| 반복 10 / 10 | 손실 0.16\n",
            "|에폭 195| 반복 10 / 10 | 손실 0.16\n",
            "|에폭 196| 반복 10 / 10 | 손실 0.16\n",
            "|에폭 197| 반복 10 / 10 | 손실 0.16\n",
            "|에폭 198| 반복 10 / 10 | 손실 0.15\n",
            "|에폭 199| 반복 10 / 10 | 손실 0.16\n",
            "|에폭 200| 반복 10 / 10 | 손실 0.16\n",
            "|에폭 201| 반복 10 / 10 | 손실 0.15\n",
            "|에폭 202| 반복 10 / 10 | 손실 0.16\n",
            "|에폭 203| 반복 10 / 10 | 손실 0.16\n",
            "|에폭 204| 반복 10 / 10 | 손실 0.15\n",
            "|에폭 205| 반복 10 / 10 | 손실 0.16\n",
            "|에폭 206| 반복 10 / 10 | 손실 0.15\n",
            "|에폭 207| 반복 10 / 10 | 손실 0.15\n",
            "|에폭 208| 반복 10 / 10 | 손실 0.15\n",
            "|에폭 209| 반복 10 / 10 | 손실 0.15\n",
            "|에폭 210| 반복 10 / 10 | 손실 0.15\n",
            "|에폭 211| 반복 10 / 10 | 손실 0.15\n",
            "|에폭 212| 반복 10 / 10 | 손실 0.15\n",
            "|에폭 213| 반복 10 / 10 | 손실 0.15\n",
            "|에폭 214| 반복 10 / 10 | 손실 0.15\n",
            "|에폭 215| 반복 10 / 10 | 손실 0.15\n",
            "|에폭 216| 반복 10 / 10 | 손실 0.14\n",
            "|에폭 217| 반복 10 / 10 | 손실 0.14\n",
            "|에폭 218| 반복 10 / 10 | 손실 0.15\n",
            "|에폭 219| 반복 10 / 10 | 손실 0.14\n",
            "|에폭 220| 반복 10 / 10 | 손실 0.14\n",
            "|에폭 221| 반복 10 / 10 | 손실 0.14\n",
            "|에폭 222| 반복 10 / 10 | 손실 0.14\n",
            "|에폭 223| 반복 10 / 10 | 손실 0.14\n",
            "|에폭 224| 반복 10 / 10 | 손실 0.14\n",
            "|에폭 225| 반복 10 / 10 | 손실 0.14\n",
            "|에폭 226| 반복 10 / 10 | 손실 0.14\n",
            "|에폭 227| 반복 10 / 10 | 손실 0.14\n",
            "|에폭 228| 반복 10 / 10 | 손실 0.14\n",
            "|에폭 229| 반복 10 / 10 | 손실 0.13\n",
            "|에폭 230| 반복 10 / 10 | 손실 0.14\n",
            "|에폭 231| 반복 10 / 10 | 손실 0.13\n",
            "|에폭 232| 반복 10 / 10 | 손실 0.14\n",
            "|에폭 233| 반복 10 / 10 | 손실 0.13\n",
            "|에폭 234| 반복 10 / 10 | 손실 0.13\n",
            "|에폭 235| 반복 10 / 10 | 손실 0.13\n",
            "|에폭 236| 반복 10 / 10 | 손실 0.13\n",
            "|에폭 237| 반복 10 / 10 | 손실 0.14\n",
            "|에폭 238| 반복 10 / 10 | 손실 0.13\n",
            "|에폭 239| 반복 10 / 10 | 손실 0.13\n",
            "|에폭 240| 반복 10 / 10 | 손실 0.14\n",
            "|에폭 241| 반복 10 / 10 | 손실 0.13\n",
            "|에폭 242| 반복 10 / 10 | 손실 0.13\n",
            "|에폭 243| 반복 10 / 10 | 손실 0.13\n",
            "|에폭 244| 반복 10 / 10 | 손실 0.13\n",
            "|에폭 245| 반복 10 / 10 | 손실 0.13\n",
            "|에폭 246| 반복 10 / 10 | 손실 0.13\n",
            "|에폭 247| 반복 10 / 10 | 손실 0.13\n",
            "|에폭 248| 반복 10 / 10 | 손실 0.13\n",
            "|에폭 249| 반복 10 / 10 | 손실 0.13\n",
            "|에폭 250| 반복 10 / 10 | 손실 0.13\n",
            "|에폭 251| 반복 10 / 10 | 손실 0.13\n",
            "|에폭 252| 반복 10 / 10 | 손실 0.12\n",
            "|에폭 253| 반복 10 / 10 | 손실 0.12\n",
            "|에폭 254| 반복 10 / 10 | 손실 0.12\n",
            "|에폭 255| 반복 10 / 10 | 손실 0.12\n",
            "|에폭 256| 반복 10 / 10 | 손실 0.12\n",
            "|에폭 257| 반복 10 / 10 | 손실 0.12\n",
            "|에폭 258| 반복 10 / 10 | 손실 0.12\n",
            "|에폭 259| 반복 10 / 10 | 손실 0.13\n",
            "|에폭 260| 반복 10 / 10 | 손실 0.12\n",
            "|에폭 261| 반복 10 / 10 | 손실 0.13\n",
            "|에폭 262| 반복 10 / 10 | 손실 0.12\n",
            "|에폭 263| 반복 10 / 10 | 손실 0.12\n",
            "|에폭 264| 반복 10 / 10 | 손실 0.13\n",
            "|에폭 265| 반복 10 / 10 | 손실 0.12\n",
            "|에폭 266| 반복 10 / 10 | 손실 0.12\n",
            "|에폭 267| 반복 10 / 10 | 손실 0.12\n",
            "|에폭 268| 반복 10 / 10 | 손실 0.12\n",
            "|에폭 269| 반복 10 / 10 | 손실 0.11\n",
            "|에폭 270| 반복 10 / 10 | 손실 0.12\n",
            "|에폭 271| 반복 10 / 10 | 손실 0.12\n",
            "|에폭 272| 반복 10 / 10 | 손실 0.12\n",
            "|에폭 273| 반복 10 / 10 | 손실 0.12\n",
            "|에폭 274| 반복 10 / 10 | 손실 0.12\n",
            "|에폭 275| 반복 10 / 10 | 손실 0.11\n",
            "|에폭 276| 반복 10 / 10 | 손실 0.12\n",
            "|에폭 277| 반복 10 / 10 | 손실 0.12\n",
            "|에폭 278| 반복 10 / 10 | 손실 0.11\n",
            "|에폭 279| 반복 10 / 10 | 손실 0.11\n",
            "|에폭 280| 반복 10 / 10 | 손실 0.11\n",
            "|에폭 281| 반복 10 / 10 | 손실 0.11\n",
            "|에폭 282| 반복 10 / 10 | 손실 0.12\n",
            "|에폭 283| 반복 10 / 10 | 손실 0.11\n",
            "|에폭 284| 반복 10 / 10 | 손실 0.11\n",
            "|에폭 285| 반복 10 / 10 | 손실 0.11\n",
            "|에폭 286| 반복 10 / 10 | 손실 0.11\n",
            "|에폭 287| 반복 10 / 10 | 손실 0.11\n",
            "|에폭 288| 반복 10 / 10 | 손실 0.12\n",
            "|에폭 289| 반복 10 / 10 | 손실 0.11\n",
            "|에폭 290| 반복 10 / 10 | 손실 0.11\n",
            "|에폭 291| 반복 10 / 10 | 손실 0.11\n",
            "|에폭 292| 반복 10 / 10 | 손실 0.11\n",
            "|에폭 293| 반복 10 / 10 | 손실 0.11\n",
            "|에폭 294| 반복 10 / 10 | 손실 0.11\n",
            "|에폭 295| 반복 10 / 10 | 손실 0.12\n",
            "|에폭 296| 반복 10 / 10 | 손실 0.11\n",
            "|에폭 297| 반복 10 / 10 | 손실 0.12\n",
            "|에폭 298| 반복 10 / 10 | 손실 0.11\n",
            "|에폭 299| 반복 10 / 10 | 손실 0.11\n",
            "|에폭 300| 반복 10 / 10 | 손실 0.11\n"
          ],
          "name": "stdout"
        },
        {
          "output_type": "stream",
          "text": [
            "/usr/local/lib/python3.6/dist-packages/matplotlib/backends/backend_agg.py:214: RuntimeWarning: Glyph 48152 missing from current font.\n",
            "  font.set_text(s, 0.0, flags=flags)\n",
            "/usr/local/lib/python3.6/dist-packages/matplotlib/backends/backend_agg.py:214: RuntimeWarning: Glyph 48373 missing from current font.\n",
            "  font.set_text(s, 0.0, flags=flags)\n",
            "/usr/local/lib/python3.6/dist-packages/matplotlib/backends/backend_agg.py:214: RuntimeWarning: Glyph 49552 missing from current font.\n",
            "  font.set_text(s, 0.0, flags=flags)\n",
            "/usr/local/lib/python3.6/dist-packages/matplotlib/backends/backend_agg.py:214: RuntimeWarning: Glyph 49892 missing from current font.\n",
            "  font.set_text(s, 0.0, flags=flags)\n",
            "/usr/local/lib/python3.6/dist-packages/matplotlib/backends/backend_agg.py:183: RuntimeWarning: Glyph 48152 missing from current font.\n",
            "  font.set_text(s, 0, flags=flags)\n",
            "/usr/local/lib/python3.6/dist-packages/matplotlib/backends/backend_agg.py:183: RuntimeWarning: Glyph 48373 missing from current font.\n",
            "  font.set_text(s, 0, flags=flags)\n",
            "/usr/local/lib/python3.6/dist-packages/matplotlib/backends/backend_agg.py:183: RuntimeWarning: Glyph 49552 missing from current font.\n",
            "  font.set_text(s, 0, flags=flags)\n",
            "/usr/local/lib/python3.6/dist-packages/matplotlib/backends/backend_agg.py:183: RuntimeWarning: Glyph 49892 missing from current font.\n",
            "  font.set_text(s, 0, flags=flags)\n"
          ],
          "name": "stderr"
        },
        {
          "output_type": "display_data",
          "data": {
            "image/png": "[encoded data removed]",
            "text/plain": [
              "<Figure size 432x288 with 1 Axes>"
            ]
          },
          "metadata": {
            "tags": [],
            "needs_background": "light"
          }
        }
      ]
    },
    {
      "cell_type": "code",
      "metadata": {
        "id": "rtbT1DzpAUbQ",
        "colab_type": "code",
        "colab": {
          "base_uri": "https://localhost:8080/",
          "height": 248
        },
        "outputId": "59218ed4-d775-47da-97b4-427f7a8cafac"
      },
      "source": [
        "# 경계 영역을 보면 나선형 패턴을 올바르게 파악했음을 알 수 있음\n",
        "\n",
        "# 경계 영역 플롯\n",
        "h = 0.001\n",
        "x_min, x_max = x[:, 0].min() - .1, x[:, 0].max() + .1\n",
        "y_min, y_max = x[:, 1].min() - .1, x[:, 1].max() + .1\n",
        "xx, yy = np.meshgrid(np.arange(x_min, x_max, h), np.arange(y_min, y_max, h))\n",
        "X = np.c_[xx.ravel(), yy.ravel()]\n",
        "score = model.predict(X) \n",
        "predict_cls = np.argmax(score, axis=1)\n",
        "Z = predict_cls.reshape(xx.shape)\n",
        "plt.contourf(xx, yy, Z)\n",
        "plt.axis('off')\n",
        "\n",
        "# 데이터점 플롯\n",
        "x, t = spiral.load_data()\n",
        "N = 100\n",
        "CLS_NUM = 3\n",
        "markers = ['o', 'x', '^']\n",
        "for i in range(CLS_NUM):\n",
        "    plt.scatter(x[i*N:(i+1)*N, 0], x[i*N:(i+1)*N, 1], s=40, marker=markers[i])\n",
        "plt.show()\n"
      ],
      "execution_count": null,
      "outputs": [
        {
          "output_type": "display_data",
          "data": {
            "image/png": "[encoded data removed]",
            "text/plain": [
              "<Figure size 432x288 with 1 Axes>"
            ]
          },
          "metadata": {
            "tags": [],
            "needs_background": "light"
          }
        }
      ]
    },
    {
      "cell_type": "code",
      "metadata": {
        "id": "dhT5gUxDIzM0",
        "colab_type": "code",
        "colab": {
          "base_uri": "https://localhost:8080/",
          "height": 1000
        },
        "outputId": "e27dfeb6-1737-4aae-f949-a15b8e0fb1e3"
      },
      "source": [
        "import sys, os\n",
        "os.chdir(\"/content/drive/My Drive/Colab Notebooks/deep-learning-from-scratch-2-master/deep-learning-from-scratch-2-master\")\n",
        "from common.optimizer import SGD\n",
        "from common.trainer import Trainer\n",
        "from dataset import spiral\n",
        "from two_layer_net import TwoLayerNet\n",
        "\n",
        "max_epoch = 300\n",
        "batch_size = 30\n",
        "hidden_size = 10\n",
        "learning_rate = 1.0\n",
        "x, t = spiral.load_data()\n",
        "model = TwoLayerNet(input_size = 2, hidden_size = hidden_size, output_size = 3)\n",
        "optimizer = SGD(lr=learning_rate)\n",
        "\n",
        "# 앞에 했던 내용을 간단하게 Trainer 라는 클래스로 묶었을 뿐임.\n",
        "trainer = Trainer(model, optimizer)\n",
        "trainer.fit(x, t, max_epoch, batch_size, eval_interval = 10)\n",
        "trainer.plot()"
      ],
      "execution_count": null,
      "outputs": [
        {
          "output_type": "stream",
          "text": [
            "| 에폭 1 |  반복 1 / 10 | 시간 0[s] | 손실 1.10\n",
            "| 에폭 2 |  반복 1 / 10 | 시간 0[s] | 손실 1.12\n",
            "| 에폭 3 |  반복 1 / 10 | 시간 0[s] | 손실 1.13\n",
            "| 에폭 4 |  반복 1 / 10 | 시간 0[s] | 손실 1.12\n",
            "| 에폭 5 |  반복 1 / 10 | 시간 0[s] | 손실 1.12\n",
            "| 에폭 6 |  반복 1 / 10 | 시간 0[s] | 손실 1.10\n",
            "| 에폭 7 |  반복 1 / 10 | 시간 0[s] | 손실 1.14\n",
            "| 에폭 8 |  반복 1 / 10 | 시간 0[s] | 손실 1.16\n",
            "| 에폭 9 |  반복 1 / 10 | 시간 0[s] | 손실 1.11\n",
            "| 에폭 10 |  반복 1 / 10 | 시간 0[s] | 손실 1.12\n",
            "| 에폭 11 |  반복 1 / 10 | 시간 0[s] | 손실 1.12\n",
            "| 에폭 12 |  반복 1 / 10 | 시간 0[s] | 손실 1.12\n",
            "| 에폭 13 |  반복 1 / 10 | 시간 0[s] | 손실 1.10\n",
            "| 에폭 14 |  반복 1 / 10 | 시간 0[s] | 손실 1.09\n",
            "| 에폭 15 |  반복 1 / 10 | 시간 0[s] | 손실 1.08\n",
            "| 에폭 16 |  반복 1 / 10 | 시간 0[s] | 손실 1.04\n",
            "| 에폭 17 |  반복 1 / 10 | 시간 0[s] | 손실 1.03\n",
            "| 에폭 18 |  반복 1 / 10 | 시간 0[s] | 손실 0.94\n",
            "| 에폭 19 |  반복 1 / 10 | 시간 0[s] | 손실 0.92\n",
            "| 에폭 20 |  반복 1 / 10 | 시간 0[s] | 손실 0.92\n",
            "| 에폭 21 |  반복 1 / 10 | 시간 0[s] | 손실 0.87\n",
            "| 에폭 22 |  반복 1 / 10 | 시간 0[s] | 손실 0.85\n",
            "| 에폭 23 |  반복 1 / 10 | 시간 0[s] | 손실 0.80\n",
            "| 에폭 24 |  반복 1 / 10 | 시간 0[s] | 손실 0.79\n",
            "| 에폭 25 |  반복 1 / 10 | 시간 0[s] | 손실 0.78\n",
            "| 에폭 26 |  반복 1 / 10 | 시간 0[s] | 손실 0.83\n",
            "| 에폭 27 |  반복 1 / 10 | 시간 0[s] | 손실 0.77\n",
            "| 에폭 28 |  반복 1 / 10 | 시간 0[s] | 손실 0.76\n",
            "| 에폭 29 |  반복 1 / 10 | 시간 0[s] | 손실 0.77\n",
            "| 에폭 30 |  반복 1 / 10 | 시간 0[s] | 손실 0.76\n",
            "| 에폭 31 |  반복 1 / 10 | 시간 0[s] | 손실 0.77\n",
            "| 에폭 32 |  반복 1 / 10 | 시간 0[s] | 손실 0.75\n",
            "| 에폭 33 |  반복 1 / 10 | 시간 0[s] | 손실 0.78\n",
            "| 에폭 34 |  반복 1 / 10 | 시간 0[s] | 손실 0.77\n",
            "| 에폭 35 |  반복 1 / 10 | 시간 0[s] | 손실 0.78\n",
            "| 에폭 36 |  반복 1 / 10 | 시간 0[s] | 손실 0.74\n",
            "| 에폭 37 |  반복 1 / 10 | 시간 0[s] | 손실 0.75\n",
            "| 에폭 38 |  반복 1 / 10 | 시간 0[s] | 손실 0.77\n",
            "| 에폭 39 |  반복 1 / 10 | 시간 0[s] | 손실 0.75\n",
            "| 에폭 40 |  반복 1 / 10 | 시간 0[s] | 손실 0.73\n",
            "| 에폭 41 |  반복 1 / 10 | 시간 0[s] | 손실 0.75\n",
            "| 에폭 42 |  반복 1 / 10 | 시간 0[s] | 손실 0.76\n",
            "| 에폭 43 |  반복 1 / 10 | 시간 0[s] | 손실 0.79\n",
            "| 에폭 44 |  반복 1 / 10 | 시간 0[s] | 손실 0.74\n",
            "| 에폭 45 |  반복 1 / 10 | 시간 0[s] | 손실 0.75\n",
            "| 에폭 46 |  반복 1 / 10 | 시간 0[s] | 손실 0.73\n",
            "| 에폭 47 |  반복 1 / 10 | 시간 0[s] | 손실 0.73\n",
            "| 에폭 48 |  반복 1 / 10 | 시간 0[s] | 손실 0.73\n",
            "| 에폭 49 |  반복 1 / 10 | 시간 0[s] | 손실 0.73\n",
            "| 에폭 50 |  반복 1 / 10 | 시간 0[s] | 손실 0.72\n",
            "| 에폭 51 |  반복 1 / 10 | 시간 0[s] | 손실 0.72\n",
            "| 에폭 52 |  반복 1 / 10 | 시간 0[s] | 손실 0.72\n",
            "| 에폭 53 |  반복 1 / 10 | 시간 0[s] | 손실 0.72\n",
            "| 에폭 54 |  반복 1 / 10 | 시간 0[s] | 손실 0.74\n",
            "| 에폭 55 |  반복 1 / 10 | 시간 0[s] | 손실 0.74\n",
            "| 에폭 56 |  반복 1 / 10 | 시간 0[s] | 손실 0.73\n",
            "| 에폭 57 |  반복 1 / 10 | 시간 0[s] | 손실 0.72\n",
            "| 에폭 58 |  반복 1 / 10 | 시간 0[s] | 손실 0.69\n",
            "| 에폭 59 |  반복 1 / 10 | 시간 0[s] | 손실 0.72\n",
            "| 에폭 60 |  반복 1 / 10 | 시간 0[s] | 손실 0.70\n",
            "| 에폭 61 |  반복 1 / 10 | 시간 0[s] | 손실 0.69\n",
            "| 에폭 62 |  반복 1 / 10 | 시간 0[s] | 손실 0.71\n",
            "| 에폭 63 |  반복 1 / 10 | 시간 0[s] | 손실 0.70\n",
            "| 에폭 64 |  반복 1 / 10 | 시간 0[s] | 손실 0.71\n",
            "| 에폭 65 |  반복 1 / 10 | 시간 0[s] | 손실 0.72\n",
            "| 에폭 66 |  반복 1 / 10 | 시간 0[s] | 손실 0.71\n",
            "| 에폭 67 |  반복 1 / 10 | 시간 0[s] | 손실 0.71\n",
            "| 에폭 68 |  반복 1 / 10 | 시간 0[s] | 손실 0.71\n",
            "| 에폭 69 |  반복 1 / 10 | 시간 0[s] | 손실 0.70\n",
            "| 에폭 70 |  반복 1 / 10 | 시간 0[s] | 손실 0.68\n",
            "| 에폭 71 |  반복 1 / 10 | 시간 0[s] | 손실 0.73\n",
            "| 에폭 72 |  반복 1 / 10 | 시간 0[s] | 손실 0.66\n",
            "| 에폭 73 |  반복 1 / 10 | 시간 0[s] | 손실 0.69\n",
            "| 에폭 74 |  반복 1 / 10 | 시간 0[s] | 손실 0.66\n",
            "| 에폭 75 |  반복 1 / 10 | 시간 0[s] | 손실 0.70\n",
            "| 에폭 76 |  반복 1 / 10 | 시간 0[s] | 손실 0.65\n",
            "| 에폭 77 |  반복 1 / 10 | 시간 0[s] | 손실 0.67\n",
            "| 에폭 78 |  반복 1 / 10 | 시간 0[s] | 손실 0.70\n",
            "| 에폭 79 |  반복 1 / 10 | 시간 0[s] | 손실 0.63\n",
            "| 에폭 80 |  반복 1 / 10 | 시간 0[s] | 손실 0.66\n",
            "| 에폭 81 |  반복 1 / 10 | 시간 0[s] | 손실 0.65\n",
            "| 에폭 82 |  반복 1 / 10 | 시간 0[s] | 손실 0.66\n",
            "| 에폭 83 |  반복 1 / 10 | 시간 0[s] | 손실 0.64\n",
            "| 에폭 84 |  반복 1 / 10 | 시간 0[s] | 손실 0.62\n",
            "| 에폭 85 |  반복 1 / 10 | 시간 0[s] | 손실 0.62\n",
            "| 에폭 86 |  반복 1 / 10 | 시간 0[s] | 손실 0.63\n",
            "| 에폭 87 |  반복 1 / 10 | 시간 0[s] | 손실 0.59\n",
            "| 에폭 88 |  반복 1 / 10 | 시간 0[s] | 손실 0.58\n",
            "| 에폭 89 |  반복 1 / 10 | 시간 0[s] | 손실 0.61\n",
            "| 에폭 90 |  반복 1 / 10 | 시간 0[s] | 손실 0.59\n",
            "| 에폭 91 |  반복 1 / 10 | 시간 0[s] | 손실 0.58\n",
            "| 에폭 92 |  반복 1 / 10 | 시간 0[s] | 손실 0.57\n",
            "| 에폭 93 |  반복 1 / 10 | 시간 0[s] | 손실 0.55\n",
            "| 에폭 94 |  반복 1 / 10 | 시간 0[s] | 손실 0.54\n",
            "| 에폭 95 |  반복 1 / 10 | 시간 0[s] | 손실 0.53\n",
            "| 에폭 96 |  반복 1 / 10 | 시간 0[s] | 손실 0.54\n",
            "| 에폭 97 |  반복 1 / 10 | 시간 0[s] | 손실 0.51\n",
            "| 에폭 98 |  반복 1 / 10 | 시간 0[s] | 손실 0.51\n",
            "| 에폭 99 |  반복 1 / 10 | 시간 0[s] | 손실 0.50\n",
            "| 에폭 100 |  반복 1 / 10 | 시간 0[s] | 손실 0.47\n",
            "| 에폭 101 |  반복 1 / 10 | 시간 0[s] | 손실 0.49\n",
            "| 에폭 102 |  반복 1 / 10 | 시간 0[s] | 손실 0.46\n",
            "| 에폭 103 |  반복 1 / 10 | 시간 0[s] | 손실 0.44\n",
            "| 에폭 104 |  반복 1 / 10 | 시간 0[s] | 손실 0.47\n",
            "| 에폭 105 |  반복 1 / 10 | 시간 0[s] | 손실 0.44\n",
            "| 에폭 106 |  반복 1 / 10 | 시간 0[s] | 손실 0.43\n",
            "| 에폭 107 |  반복 1 / 10 | 시간 0[s] | 손실 0.43\n",
            "| 에폭 108 |  반복 1 / 10 | 시간 0[s] | 손실 0.39\n",
            "| 에폭 109 |  반복 1 / 10 | 시간 0[s] | 손실 0.40\n",
            "| 에폭 110 |  반복 1 / 10 | 시간 0[s] | 손실 0.41\n",
            "| 에폭 111 |  반복 1 / 10 | 시간 0[s] | 손실 0.38\n",
            "| 에폭 112 |  반복 1 / 10 | 시간 0[s] | 손실 0.38\n",
            "| 에폭 113 |  반복 1 / 10 | 시간 0[s] | 손실 0.38\n",
            "| 에폭 114 |  반복 1 / 10 | 시간 0[s] | 손실 0.37\n",
            "| 에폭 115 |  반복 1 / 10 | 시간 0[s] | 손실 0.36\n",
            "| 에폭 116 |  반복 1 / 10 | 시간 0[s] | 손실 0.34\n",
            "| 에폭 117 |  반복 1 / 10 | 시간 0[s] | 손실 0.35\n",
            "| 에폭 118 |  반복 1 / 10 | 시간 0[s] | 손실 0.33\n",
            "| 에폭 119 |  반복 1 / 10 | 시간 0[s] | 손실 0.35\n",
            "| 에폭 120 |  반복 1 / 10 | 시간 0[s] | 손실 0.33\n",
            "| 에폭 121 |  반복 1 / 10 | 시간 0[s] | 손실 0.33\n",
            "| 에폭 122 |  반복 1 / 10 | 시간 0[s] | 손실 0.32\n",
            "| 에폭 123 |  반복 1 / 10 | 시간 0[s] | 손실 0.31\n",
            "| 에폭 124 |  반복 1 / 10 | 시간 0[s] | 손실 0.31\n",
            "| 에폭 125 |  반복 1 / 10 | 시간 0[s] | 손실 0.31\n",
            "| 에폭 126 |  반복 1 / 10 | 시간 0[s] | 손실 0.30\n",
            "| 에폭 127 |  반복 1 / 10 | 시간 0[s] | 손실 0.30\n",
            "| 에폭 128 |  반복 1 / 10 | 시간 0[s] | 손실 0.27\n",
            "| 에폭 129 |  반복 1 / 10 | 시간 0[s] | 손실 0.30\n",
            "| 에폭 130 |  반복 1 / 10 | 시간 0[s] | 손실 0.28\n",
            "| 에폭 131 |  반복 1 / 10 | 시간 0[s] | 손실 0.26\n",
            "| 에폭 132 |  반복 1 / 10 | 시간 0[s] | 손실 0.27\n",
            "| 에폭 133 |  반복 1 / 10 | 시간 0[s] | 손실 0.27\n",
            "| 에폭 134 |  반복 1 / 10 | 시간 0[s] | 손실 0.28\n",
            "| 에폭 135 |  반복 1 / 10 | 시간 0[s] | 손실 0.26\n",
            "| 에폭 136 |  반복 1 / 10 | 시간 0[s] | 손실 0.28\n",
            "| 에폭 137 |  반복 1 / 10 | 시간 0[s] | 손실 0.25\n",
            "| 에폭 138 |  반복 1 / 10 | 시간 0[s] | 손실 0.26\n",
            "| 에폭 139 |  반복 1 / 10 | 시간 0[s] | 손실 0.26\n",
            "| 에폭 140 |  반복 1 / 10 | 시간 0[s] | 손실 0.26\n",
            "| 에폭 141 |  반복 1 / 10 | 시간 0[s] | 손실 0.23\n",
            "| 에폭 142 |  반복 1 / 10 | 시간 0[s] | 손실 0.23\n",
            "| 에폭 143 |  반복 1 / 10 | 시간 0[s] | 손실 0.26\n",
            "| 에폭 144 |  반복 1 / 10 | 시간 0[s] | 손실 0.23\n",
            "| 에폭 145 |  반복 1 / 10 | 시간 0[s] | 손실 0.24\n",
            "| 에폭 146 |  반복 1 / 10 | 시간 0[s] | 손실 0.24\n",
            "| 에폭 147 |  반복 1 / 10 | 시간 0[s] | 손실 0.25\n",
            "| 에폭 148 |  반복 1 / 10 | 시간 0[s] | 손실 0.21\n",
            "| 에폭 149 |  반복 1 / 10 | 시간 0[s] | 손실 0.23\n",
            "| 에폭 150 |  반복 1 / 10 | 시간 0[s] | 손실 0.22\n",
            "| 에폭 151 |  반복 1 / 10 | 시간 0[s] | 손실 0.22\n",
            "| 에폭 152 |  반복 1 / 10 | 시간 0[s] | 손실 0.23\n",
            "| 에폭 153 |  반복 1 / 10 | 시간 0[s] | 손실 0.23\n",
            "| 에폭 154 |  반복 1 / 10 | 시간 0[s] | 손실 0.20\n",
            "| 에폭 155 |  반복 1 / 10 | 시간 0[s] | 손실 0.22\n",
            "| 에폭 156 |  반복 1 / 10 | 시간 0[s] | 손실 0.21\n",
            "| 에폭 157 |  반복 1 / 10 | 시간 0[s] | 손실 0.21\n",
            "| 에폭 158 |  반복 1 / 10 | 시간 0[s] | 손실 0.20\n",
            "| 에폭 159 |  반복 1 / 10 | 시간 0[s] | 손실 0.21\n",
            "| 에폭 160 |  반복 1 / 10 | 시간 0[s] | 손실 0.20\n",
            "| 에폭 161 |  반복 1 / 10 | 시간 0[s] | 손실 0.19\n",
            "| 에폭 162 |  반복 1 / 10 | 시간 0[s] | 손실 0.22\n",
            "| 에폭 163 |  반복 1 / 10 | 시간 0[s] | 손실 0.19\n",
            "| 에폭 164 |  반복 1 / 10 | 시간 0[s] | 손실 0.21\n",
            "| 에폭 165 |  반복 1 / 10 | 시간 0[s] | 손실 0.20\n",
            "| 에폭 166 |  반복 1 / 10 | 시간 0[s] | 손실 0.20\n",
            "| 에폭 167 |  반복 1 / 10 | 시간 0[s] | 손실 0.20\n",
            "| 에폭 168 |  반복 1 / 10 | 시간 0[s] | 손실 0.19\n",
            "| 에폭 169 |  반복 1 / 10 | 시간 0[s] | 손실 0.18\n",
            "| 에폭 170 |  반복 1 / 10 | 시간 0[s] | 손실 0.19\n",
            "| 에폭 171 |  반복 1 / 10 | 시간 0[s] | 손실 0.19\n",
            "| 에폭 172 |  반복 1 / 10 | 시간 0[s] | 손실 0.20\n",
            "| 에폭 173 |  반복 1 / 10 | 시간 0[s] | 손실 0.16\n",
            "| 에폭 174 |  반복 1 / 10 | 시간 0[s] | 손실 0.20\n",
            "| 에폭 175 |  반복 1 / 10 | 시간 0[s] | 손실 0.18\n",
            "| 에폭 176 |  반복 1 / 10 | 시간 0[s] | 손실 0.17\n",
            "| 에폭 177 |  반복 1 / 10 | 시간 0[s] | 손실 0.17\n",
            "| 에폭 178 |  반복 1 / 10 | 시간 0[s] | 손실 0.17\n",
            "| 에폭 179 |  반복 1 / 10 | 시간 0[s] | 손실 0.18\n",
            "| 에폭 180 |  반복 1 / 10 | 시간 0[s] | 손실 0.19\n",
            "| 에폭 181 |  반복 1 / 10 | 시간 0[s] | 손실 0.17\n",
            "| 에폭 182 |  반복 1 / 10 | 시간 0[s] | 손실 0.18\n",
            "| 에폭 183 |  반복 1 / 10 | 시간 0[s] | 손실 0.16\n",
            "| 에폭 184 |  반복 1 / 10 | 시간 0[s] | 손실 0.18\n",
            "| 에폭 185 |  반복 1 / 10 | 시간 0[s] | 손실 0.18\n",
            "| 에폭 186 |  반복 1 / 10 | 시간 0[s] | 손실 0.17\n",
            "| 에폭 187 |  반복 1 / 10 | 시간 0[s] | 손실 0.17\n",
            "| 에폭 188 |  반복 1 / 10 | 시간 0[s] | 손실 0.18\n",
            "| 에폭 189 |  반복 1 / 10 | 시간 0[s] | 손실 0.16\n",
            "| 에폭 190 |  반복 1 / 10 | 시간 0[s] | 손실 0.16\n",
            "| 에폭 191 |  반복 1 / 10 | 시간 0[s] | 손실 0.17\n",
            "| 에폭 192 |  반복 1 / 10 | 시간 0[s] | 손실 0.17\n",
            "| 에폭 193 |  반복 1 / 10 | 시간 0[s] | 손실 0.16\n",
            "| 에폭 194 |  반복 1 / 10 | 시간 0[s] | 손실 0.16\n",
            "| 에폭 195 |  반복 1 / 10 | 시간 0[s] | 손실 0.16\n",
            "| 에폭 196 |  반복 1 / 10 | 시간 0[s] | 손실 0.17\n",
            "| 에폭 197 |  반복 1 / 10 | 시간 0[s] | 손실 0.16\n",
            "| 에폭 198 |  반복 1 / 10 | 시간 0[s] | 손실 0.17\n",
            "| 에폭 199 |  반복 1 / 10 | 시간 0[s] | 손실 0.16\n",
            "| 에폭 200 |  반복 1 / 10 | 시간 0[s] | 손실 0.14\n",
            "| 에폭 201 |  반복 1 / 10 | 시간 0[s] | 손실 0.16\n",
            "| 에폭 202 |  반복 1 / 10 | 시간 0[s] | 손실 0.16\n",
            "| 에폭 203 |  반복 1 / 10 | 시간 0[s] | 손실 0.15\n",
            "| 에폭 204 |  반복 1 / 10 | 시간 0[s] | 손실 0.16\n",
            "| 에폭 205 |  반복 1 / 10 | 시간 0[s] | 손실 0.14\n",
            "| 에폭 206 |  반복 1 / 10 | 시간 0[s] | 손실 0.16\n",
            "| 에폭 207 |  반복 1 / 10 | 시간 0[s] | 손실 0.16\n",
            "| 에폭 208 |  반복 1 / 10 | 시간 0[s] | 손실 0.14\n",
            "| 에폭 209 |  반복 1 / 10 | 시간 0[s] | 손실 0.15\n",
            "| 에폭 210 |  반복 1 / 10 | 시간 0[s] | 손실 0.16\n",
            "| 에폭 211 |  반복 1 / 10 | 시간 0[s] | 손실 0.14\n",
            "| 에폭 212 |  반복 1 / 10 | 시간 0[s] | 손실 0.15\n",
            "| 에폭 213 |  반복 1 / 10 | 시간 0[s] | 손실 0.15\n",
            "| 에폭 214 |  반복 1 / 10 | 시간 0[s] | 손실 0.15\n",
            "| 에폭 215 |  반복 1 / 10 | 시간 0[s] | 손실 0.14\n",
            "| 에폭 216 |  반복 1 / 10 | 시간 0[s] | 손실 0.14\n",
            "| 에폭 217 |  반복 1 / 10 | 시간 0[s] | 손실 0.15\n",
            "| 에폭 218 |  반복 1 / 10 | 시간 0[s] | 손실 0.14\n",
            "| 에폭 219 |  반복 1 / 10 | 시간 0[s] | 손실 0.15\n",
            "| 에폭 220 |  반복 1 / 10 | 시간 0[s] | 손실 0.15\n",
            "| 에폭 221 |  반복 1 / 10 | 시간 0[s] | 손실 0.14\n",
            "| 에폭 222 |  반복 1 / 10 | 시간 0[s] | 손실 0.13\n",
            "| 에폭 223 |  반복 1 / 10 | 시간 0[s] | 손실 0.15\n",
            "| 에폭 224 |  반복 1 / 10 | 시간 0[s] | 손실 0.14\n",
            "| 에폭 225 |  반복 1 / 10 | 시간 0[s] | 손실 0.16\n",
            "| 에폭 226 |  반복 1 / 10 | 시간 0[s] | 손실 0.12\n",
            "| 에폭 227 |  반복 1 / 10 | 시간 0[s] | 손실 0.13\n",
            "| 에폭 228 |  반복 1 / 10 | 시간 0[s] | 손실 0.15\n",
            "| 에폭 229 |  반복 1 / 10 | 시간 0[s] | 손실 0.14\n",
            "| 에폭 230 |  반복 1 / 10 | 시간 0[s] | 손실 0.13\n",
            "| 에폭 231 |  반복 1 / 10 | 시간 0[s] | 손실 0.14\n",
            "| 에폭 232 |  반복 1 / 10 | 시간 0[s] | 손실 0.13\n",
            "| 에폭 233 |  반복 1 / 10 | 시간 0[s] | 손실 0.13\n",
            "| 에폭 234 |  반복 1 / 10 | 시간 0[s] | 손실 0.14\n",
            "| 에폭 235 |  반복 1 / 10 | 시간 0[s] | 손실 0.13\n",
            "| 에폭 236 |  반복 1 / 10 | 시간 0[s] | 손실 0.12\n",
            "| 에폭 237 |  반복 1 / 10 | 시간 0[s] | 손실 0.13\n",
            "| 에폭 238 |  반복 1 / 10 | 시간 0[s] | 손실 0.14\n",
            "| 에폭 239 |  반복 1 / 10 | 시간 0[s] | 손실 0.14\n",
            "| 에폭 240 |  반복 1 / 10 | 시간 0[s] | 손실 0.13\n",
            "| 에폭 241 |  반복 1 / 10 | 시간 0[s] | 손실 0.14\n",
            "| 에폭 242 |  반복 1 / 10 | 시간 0[s] | 손실 0.13\n",
            "| 에폭 243 |  반복 1 / 10 | 시간 0[s] | 손실 0.13\n",
            "| 에폭 244 |  반복 1 / 10 | 시간 0[s] | 손실 0.14\n",
            "| 에폭 245 |  반복 1 / 10 | 시간 0[s] | 손실 0.12\n",
            "| 에폭 246 |  반복 1 / 10 | 시간 0[s] | 손실 0.13\n",
            "| 에폭 247 |  반복 1 / 10 | 시간 0[s] | 손실 0.13\n",
            "| 에폭 248 |  반복 1 / 10 | 시간 0[s] | 손실 0.12\n",
            "| 에폭 249 |  반복 1 / 10 | 시간 0[s] | 손실 0.14\n",
            "| 에폭 250 |  반복 1 / 10 | 시간 0[s] | 손실 0.12\n",
            "| 에폭 251 |  반복 1 / 10 | 시간 0[s] | 손실 0.13\n",
            "| 에폭 252 |  반복 1 / 10 | 시간 0[s] | 손실 0.13\n",
            "| 에폭 253 |  반복 1 / 10 | 시간 0[s] | 손실 0.12\n",
            "| 에폭 254 |  반복 1 / 10 | 시간 0[s] | 손실 0.12\n",
            "| 에폭 255 |  반복 1 / 10 | 시간 0[s] | 손실 0.13\n",
            "| 에폭 256 |  반복 1 / 10 | 시간 0[s] | 손실 0.12\n",
            "| 에폭 257 |  반복 1 / 10 | 시간 0[s] | 손실 0.12\n",
            "| 에폭 258 |  반복 1 / 10 | 시간 0[s] | 손실 0.12\n",
            "| 에폭 259 |  반복 1 / 10 | 시간 0[s] | 손실 0.13\n",
            "| 에폭 260 |  반복 1 / 10 | 시간 0[s] | 손실 0.13\n",
            "| 에폭 261 |  반복 1 / 10 | 시간 0[s] | 손실 0.11\n",
            "| 에폭 262 |  반복 1 / 10 | 시간 0[s] | 손실 0.13\n",
            "| 에폭 263 |  반복 1 / 10 | 시간 0[s] | 손실 0.12\n",
            "| 에폭 264 |  반복 1 / 10 | 시간 0[s] | 손실 0.11\n",
            "| 에폭 265 |  반복 1 / 10 | 시간 0[s] | 손실 0.14\n",
            "| 에폭 266 |  반복 1 / 10 | 시간 0[s] | 손실 0.11\n",
            "| 에폭 267 |  반복 1 / 10 | 시간 0[s] | 손실 0.13\n",
            "| 에폭 268 |  반복 1 / 10 | 시간 0[s] | 손실 0.11\n",
            "| 에폭 269 |  반복 1 / 10 | 시간 0[s] | 손실 0.13\n",
            "| 에폭 270 |  반복 1 / 10 | 시간 0[s] | 손실 0.11\n",
            "| 에폭 271 |  반복 1 / 10 | 시간 0[s] | 손실 0.12\n",
            "| 에폭 272 |  반복 1 / 10 | 시간 0[s] | 손실 0.12\n",
            "| 에폭 273 |  반복 1 / 10 | 시간 0[s] | 손실 0.12\n",
            "| 에폭 274 |  반복 1 / 10 | 시간 0[s] | 손실 0.12\n",
            "| 에폭 275 |  반복 1 / 10 | 시간 0[s] | 손실 0.12\n",
            "| 에폭 276 |  반복 1 / 10 | 시간 0[s] | 손실 0.12\n",
            "| 에폭 277 |  반복 1 / 10 | 시간 0[s] | 손실 0.11\n",
            "| 에폭 278 |  반복 1 / 10 | 시간 0[s] | 손실 0.13\n",
            "| 에폭 279 |  반복 1 / 10 | 시간 0[s] | 손실 0.11\n",
            "| 에폭 280 |  반복 1 / 10 | 시간 0[s] | 손실 0.10\n",
            "| 에폭 281 |  반복 1 / 10 | 시간 0[s] | 손실 0.12\n",
            "| 에폭 282 |  반복 1 / 10 | 시간 0[s] | 손실 0.11\n",
            "| 에폭 283 |  반복 1 / 10 | 시간 0[s] | 손실 0.12\n",
            "| 에폭 284 |  반복 1 / 10 | 시간 0[s] | 손실 0.11\n",
            "| 에폭 285 |  반복 1 / 10 | 시간 0[s] | 손실 0.11\n",
            "| 에폭 286 |  반복 1 / 10 | 시간 0[s] | 손실 0.12\n",
            "| 에폭 287 |  반복 1 / 10 | 시간 0[s] | 손실 0.11\n",
            "| 에폭 288 |  반복 1 / 10 | 시간 0[s] | 손실 0.11\n",
            "| 에폭 289 |  반복 1 / 10 | 시간 0[s] | 손실 0.12\n",
            "| 에폭 290 |  반복 1 / 10 | 시간 0[s] | 손실 0.11\n",
            "| 에폭 291 |  반복 1 / 10 | 시간 0[s] | 손실 0.11\n",
            "| 에폭 292 |  반복 1 / 10 | 시간 0[s] | 손실 0.11\n",
            "| 에폭 293 |  반복 1 / 10 | 시간 0[s] | 손실 0.11\n",
            "| 에폭 294 |  반복 1 / 10 | 시간 0[s] | 손실 0.11\n",
            "| 에폭 295 |  반복 1 / 10 | 시간 0[s] | 손실 0.11\n",
            "| 에폭 296 |  반복 1 / 10 | 시간 0[s] | 손실 0.12\n",
            "| 에폭 297 |  반복 1 / 10 | 시간 0[s] | 손실 0.11\n",
            "| 에폭 298 |  반복 1 / 10 | 시간 0[s] | 손실 0.11\n",
            "| 에폭 299 |  반복 1 / 10 | 시간 0[s] | 손실 0.11\n",
            "| 에폭 300 |  반복 1 / 10 | 시간 0[s] | 손실 0.11\n"
          ],
          "name": "stdout"
        },
        {
          "output_type": "stream",
          "text": [
            "/usr/local/lib/python3.6/dist-packages/matplotlib/backends/backend_agg.py:214: RuntimeWarning: Glyph 48152 missing from current font.\n",
            "  font.set_text(s, 0.0, flags=flags)\n",
            "/usr/local/lib/python3.6/dist-packages/matplotlib/backends/backend_agg.py:214: RuntimeWarning: Glyph 48373 missing from current font.\n",
            "  font.set_text(s, 0.0, flags=flags)\n",
            "/usr/local/lib/python3.6/dist-packages/matplotlib/backends/backend_agg.py:214: RuntimeWarning: Glyph 49552 missing from current font.\n",
            "  font.set_text(s, 0.0, flags=flags)\n",
            "/usr/local/lib/python3.6/dist-packages/matplotlib/backends/backend_agg.py:214: RuntimeWarning: Glyph 49892 missing from current font.\n",
            "  font.set_text(s, 0.0, flags=flags)\n",
            "/usr/local/lib/python3.6/dist-packages/matplotlib/backends/backend_agg.py:183: RuntimeWarning: Glyph 48152 missing from current font.\n",
            "  font.set_text(s, 0, flags=flags)\n",
            "/usr/local/lib/python3.6/dist-packages/matplotlib/backends/backend_agg.py:183: RuntimeWarning: Glyph 48373 missing from current font.\n",
            "  font.set_text(s, 0, flags=flags)\n",
            "/usr/local/lib/python3.6/dist-packages/matplotlib/backends/backend_agg.py:183: RuntimeWarning: Glyph 49552 missing from current font.\n",
            "  font.set_text(s, 0, flags=flags)\n",
            "/usr/local/lib/python3.6/dist-packages/matplotlib/backends/backend_agg.py:183: RuntimeWarning: Glyph 49892 missing from current font.\n",
            "  font.set_text(s, 0, flags=flags)\n"
          ],
          "name": "stderr"
        },
        {
          "output_type": "display_data",
          "data": {
            "image/png": "[encoded data removed]",
            "text/plain": [
              "<Figure size 432x288 with 1 Axes>"
            ]
          },
          "metadata": {
            "tags": [],
            "needs_background": "light"
          }
        }
      ]
    },
    {
      "cell_type": "code",
      "metadata": {
        "id": "_rILak7IH9vv",
        "colab_type": "code",
        "colab": {
          "base_uri": "https://localhost:8080/",
          "height": 70
        },
        "outputId": "775e0bd1-e5e2-4201-a47c-faecccbc9aa2"
      },
      "source": [
        "import numpy as np\n",
        "a = np.random.randn(3)\n",
        "print(a.dtype)\n",
        "# 넘파이의 부동소수점 수는 기본적으로 64비트 데이터 타입을 사용함\n",
        "# 그러나 신경망의 추론과 학습은 32비트에서도 문제없이 잘 작동하기 때문에\n",
        "# 32비트로 떨어뜨려주는게 계산속도를 증가시키는데에 용이함.\n",
        "b = np.random.randn(3).astype(np.float32)\n",
        "print(b.dtype)\n",
        "c = np.random.randn(3).astype('f')\n",
        "print(c.dtype)\n",
        "# np.float32 나 f로 지정하면 32비트로 변경\n",
        "# 신경망 추론으로 한정하면 16비트를 사용해도 인식률이 거의 떨어지지 않음.\n",
        "# 다만 일반적으로 CPU와 GPU는 연산자체를 32비트로 수행하기 때문에 \n",
        "# 처리 속도 측면에서는 혜택이 없을 수도 있음.\n",
        "# 그러나 학습된 가중치를 저장할 때는 16비트 부동소수점 수가 여전히 유효함. (데이터가 절반이므로)\n",
        "# 그래서 이 책에서는 학습된 가중치를 저장하는 경우에 한해 16비트 부동소수점 수로 변환함.\n"
      ],
      "execution_count": null,
      "outputs": [
        {
          "output_type": "stream",
          "text": [
            "float64\n",
            "float32\n",
            "float32\n"
          ],
          "name": "stdout"
        }
      ]
    },
    {
      "cell_type": "code",
      "metadata": {
        "id": "qrJx3pqNLqSf",
        "colab_type": "code",
        "colab": {
          "base_uri": "https://localhost:8080/",
          "height": 35
        },
        "outputId": "a8e993a1-4d00-44d7-dc3b-9cc7f6a2e130"
      },
      "source": [
        "'''\n",
        "import cupy as cp\n",
        "x = cp.arange(6).reshape(2, 3).astype('f')\n",
        "print(x)\n",
        "'''\n",
        "# 대량의 곱하기 연산은 병렬로 계산되는데 이 점에서는\n",
        "# CPU 보다 GPU가 훨씬 유리함. 그래서 GPU 사용에 대해 설명\n",
        "# 쿠파이는 GPU를 이용해 병렬 계산을 수행해 주는 라이브러리임.\n",
        "# 쿠파이의 사용방법은 기본적으로 넘파이와 같음.\n",
        "# 사용법은 같지만 뒤에서 열심히 GPU를 사용해 계산하는 것.\n",
        "# 보통은 numpy를 cupy로 대체해주기만 하면 끝"
      ],
      "execution_count": null,
      "outputs": [
        {
          "output_type": "execute_result",
          "data": {
            "application/vnd.google.colaboratory.intrinsic+json": {
              "type": "string"
            },
            "text/plain": [
              "\"\\nimport cupy as cp\\nx = cp.arange(6).reshape(2, 3).astype('f')\\nprint(x)\\n\""
            ]
          },
          "metadata": {
            "tags": []
          },
          "execution_count": 54
        }
      ]
    },
    {
      "cell_type": "markdown",
      "metadata": {
        "id": "goYE__qvQVft",
        "colab_type": "text"
      },
      "source": [
        "### 2장 - 자연어와 단어의 분산 표현"
      ]
    },
    {
      "cell_type": "code",
      "metadata": {
        "id": "OF_qxoMYOey3",
        "colab_type": "code",
        "colab": {
          "base_uri": "https://localhost:8080/",
          "height": 35
        },
        "outputId": "96194c46-485f-4ec9-ab7f-9fd500a78399"
      },
      "source": [
        "text = 'You say goodbye and I say hello.'\n",
        "text = text.lower() # 모든 문자를 소문자로 변환\n",
        "text = text.replace('.', ' .')  # (.) 을  ( .) 로 변환\n",
        "text\n"
      ],
      "execution_count": null,
      "outputs": [
        {
          "output_type": "execute_result",
          "data": {
            "application/vnd.google.colaboratory.intrinsic+json": {
              "type": "string"
            },
            "text/plain": [
              "'you say goodbye and i say hello .'"
            ]
          },
          "metadata": {
            "tags": []
          },
          "execution_count": 55
        }
      ]
    },
    {
      "cell_type": "code",
      "metadata": {
        "id": "y9KrxrCBxYD8",
        "colab_type": "code",
        "colab": {
          "base_uri": "https://localhost:8080/",
          "height": 34
        },
        "outputId": "83d5da2c-4f76-4b85-817f-110393c56971"
      },
      "source": [
        "words = text.split(' ') # 공백을 기준으로 분할\n",
        "words"
      ],
      "execution_count": null,
      "outputs": [
        {
          "output_type": "execute_result",
          "data": {
            "text/plain": [
              "['you', 'say', 'goodbye', 'and', 'i', 'say', 'hello', '.']"
            ]
          },
          "metadata": {
            "tags": []
          },
          "execution_count": 56
        }
      ]
    },
    {
      "cell_type": "code",
      "metadata": {
        "id": "IwoY9gXHxcmQ",
        "colab_type": "code",
        "colab": {
          "base_uri": "https://localhost:8080/",
          "height": 87
        },
        "outputId": "02ff8c33-5d48-4cf0-e369-4acb10acee4c"
      },
      "source": [
        "word_to_id = {}\n",
        "id_to_word = {}\n",
        "\n",
        "for word in words:\n",
        "  if word not in word_to_id:\n",
        "    new_id = len(word_to_id)\n",
        "    word_to_id[word] = new_id\n",
        "    id_to_word[new_id] = word\n",
        "\n",
        "print(id_to_word)\n",
        "print(word_to_id)\n",
        "\n",
        "print(id_to_word[1])\n",
        "print(word_to_id['hello'])"
      ],
      "execution_count": null,
      "outputs": [
        {
          "output_type": "stream",
          "text": [
            "{0: 'you', 1: 'say', 2: 'goodbye', 3: 'and', 4: 'i', 5: 'hello', 6: '.'}\n",
            "{'you': 0, 'say': 1, 'goodbye': 2, 'and': 3, 'i': 4, 'hello': 5, '.': 6}\n",
            "say\n",
            "5\n"
          ],
          "name": "stdout"
        }
      ]
    },
    {
      "cell_type": "code",
      "metadata": {
        "id": "Lopjwd4NyRJy",
        "colab_type": "code",
        "colab": {
          "base_uri": "https://localhost:8080/",
          "height": 34
        },
        "outputId": "33188fcb-fb0b-4a53-e0b0-4386a7342e56"
      },
      "source": [
        "import numpy as np\n",
        "corpus = [word_to_id[w] for w in words]\n",
        "corpus = np.array(corpus)\n",
        "corpus"
      ],
      "execution_count": null,
      "outputs": [
        {
          "output_type": "execute_result",
          "data": {
            "text/plain": [
              "array([0, 1, 2, 3, 4, 1, 5, 6])"
            ]
          },
          "metadata": {
            "tags": []
          },
          "execution_count": 58
        }
      ]
    },
    {
      "cell_type": "code",
      "metadata": {
        "id": "zan1UjN7zzf6",
        "colab_type": "code",
        "colab": {}
      },
      "source": [
        "import numpy as np\n",
        "def preprocess(text):\n",
        "  text = text.lower()\n",
        "  text = text.replace('.', ' .')\n",
        "  words = text.split(' ')\n",
        "  word_to_id = {}\n",
        "  id_to_word = {}\n",
        "  for word in words:\n",
        "    if word not in word_to_id:\n",
        "      new_id = len(word_to_id)\n",
        "      word_to_id[word] = new_id\n",
        "      id_to_word[new_id] = word\n",
        "\n",
        "  corpus = np.array([word_to_id[w] for w in words])\n",
        "\n",
        "\n",
        "  return corpus, word_to_id, id_to_word "
      ],
      "execution_count": null,
      "outputs": []
    },
    {
      "cell_type": "code",
      "metadata": {
        "id": "Tf_k9ANU0QLU",
        "colab_type": "code",
        "colab": {}
      },
      "source": [
        "text = 'You say goodbye and I say hello.'\n",
        "corpus, word_to_id, id_to_word = preprocess(text)"
      ],
      "execution_count": null,
      "outputs": []
    },
    {
      "cell_type": "code",
      "metadata": {
        "id": "65qXnN2Q02pg",
        "colab_type": "code",
        "colab": {
          "base_uri": "https://localhost:8080/",
          "height": 52
        },
        "outputId": "2e4f27bc-68d3-4c6b-8efd-d4345e6e68e2"
      },
      "source": [
        "import sys, os\n",
        "os.chdir(\"/content/drive/My Drive/Colab Notebooks/deep-learning-from-scratch-2-master/deep-learning-from-scratch-2-master\")\n",
        "sys.path.append(os.pardir)\n",
        "import numpy as np\n",
        "from common.util import preprocess\n",
        "\n",
        "text = 'You say goodbye and I say hello.'\n",
        "corpus, word_to_id, id_to_word = preprocess(text)\n",
        "\n",
        "print(corpus)\n",
        "\n",
        "print(id_to_word)"
      ],
      "execution_count": null,
      "outputs": [
        {
          "output_type": "stream",
          "text": [
            "[0 1 2 3 4 1 5 6]\n",
            "{0: 'you', 1: 'say', 2: 'goodbye', 3: 'and', 4: 'i', 5: 'hello', 6: '.'}\n"
          ],
          "name": "stdout"
        }
      ]
    },
    {
      "cell_type": "code",
      "metadata": {
        "id": "IDEF2xno1V1B",
        "colab_type": "code",
        "colab": {}
      },
      "source": [
        "def create_co_matrix(corpus, vocab_size, window_size = 1):\n",
        "  corpus_size = len(corpus)\n",
        "  co_matrix = np.zeros((vocab_size, vocab_size), dtype=np.int32)\n",
        "\n",
        "  for idx, word_id in enumerate(corpus): # 순서가 있는 자료형에서 index 번호와 index 값을 반환함.    \n",
        "  # 이 경우에서 corpus는 [0 1 2 3 4 1 5 6] 이므로 idx는 [0 1 2 3 4 5 6 7] word_id는 [0 1 2 3 4 1 5 6] 임.\n",
        "    for i in range(1, window_size + 1):\n",
        "      left_idx = idx - i\n",
        "      right_idx = idx + i\n",
        "      # 제일 왼쪽 인덱스랑 오른쪽 인덱스의 왼쪽/ 오른쪽은 word의 len를 벗어나니까 그걸 방지하기 위해서 밑에 코드가 있음.\n",
        "\n",
        "      if left_idx >= 0 :  \n",
        "        left_word_id = corpus[left_idx]\n",
        "        co_matrix[word_id, left_word_id] += 1\n",
        "\n",
        "      if right_idx < corpus_size:\n",
        "        right_word_id = corpus[right_idx] # 여기서 corpus[] 는 value 값임.\n",
        "        co_matrix[word_id, right_word_id] += 1\n",
        "  return co_matrix"
      ],
      "execution_count": null,
      "outputs": []
    },
    {
      "cell_type": "code",
      "metadata": {
        "id": "C-psULK73AI8",
        "colab_type": "code",
        "colab": {}
      },
      "source": [
        "'''\n",
        "def cos_similarity(x, y):\n",
        "  nx = x / np.sqrt(np.sum(x**2)) # x의 정규화\n",
        "  ny = y / np.sqrt(np.sum(y**2)) # y의 정규화\n",
        "  return np.dot(nx, ny)\n",
        "'''\n",
        " # 위에서는 x나 y가 0일 때 분모에 문제가 생기므로 분모에 아주 작은 값을 더해주면 효율적인 계산이 가능함\n",
        "def cos_similarity(x, y, eps=1e-8):\n",
        "  nx = x / np.sqrt(np.sum(x**2) + eps) \n",
        "  ny = y / np.sqrt(np.sum(y**2) + eps) \n",
        "  return np.dot(nx, ny)\n"
      ],
      "execution_count": null,
      "outputs": []
    },
    {
      "cell_type": "code",
      "metadata": {
        "id": "q0nB9UuX7-4P",
        "colab_type": "code",
        "colab": {
          "base_uri": "https://localhost:8080/",
          "height": 34
        },
        "outputId": "51a292f7-4ca2-4a22-d9fd-76ad6c8e18b5"
      },
      "source": [
        "import sys, os\n",
        "os.chdir(\"/content/drive/My Drive/Colab Notebooks/deep-learning-from-scratch-2-master/deep-learning-from-scratch-2-master\")\n",
        "sys.path.append(os.pardir)\n",
        "from common.util import preprocess, create_co_matrix, cos_similarity\n",
        "text = 'You say goodbye and I say hello.'\n",
        "corpus, word_to_id, id_to_word = preprocess(text)\n",
        "vocab_size = len(word_to_id)\n",
        "C = create_co_matrix(corpus, vocab_size)\n",
        "\n",
        "c0 = C[word_to_id['you']] # \"you\" 의 단어 벡터\n",
        "c1 = C[word_to_id['i']] # \"i\" 의  단어 벡터\n",
        "print(cos_similarity(c0, c1))"
      ],
      "execution_count": null,
      "outputs": [
        {
          "output_type": "stream",
          "text": [
            "0.7071067691154799\n"
          ],
          "name": "stdout"
        }
      ]
    },
    {
      "cell_type": "code",
      "metadata": {
        "id": "FImnDivB-qyZ",
        "colab_type": "code",
        "colab": {}
      },
      "source": [
        "def most_similar(query, word_to_id, id_to_word, word_matrix, top = 5):\n",
        "  # 검색어를 꺼낸다.\n",
        "  if query not in word_to_id:\n",
        "    print('%s(을)를 찾을 수 없습니다.' %query)\n",
        "    return\n",
        "  \n",
        "  print('\\n[query]' + query)\n",
        "  query_id = word_to_id[query]\n",
        "  query_vec = word_matrix[query_id]\n",
        "\n",
        "  # 코사인 유사도 계산\n",
        "  vocab_size = len(id_to_word)\n",
        "  similarity = np.zeros(vocab_size)\n",
        "  \n",
        "  for i in range(vocab_size):\n",
        "    similarity[i] = cos_similarity(word_matrix[i], query_vec)\n",
        "\n",
        "  # 코사인 유사도를 기준으로 내림차순으로 출력\n",
        "  count = 0\n",
        "  for i in ( -1 * similarity).argsort(): # argsort의 의미는 배열의 원소를 오름차순으로 정렬하는 것. 그런데 여기서는 similarity 에 -1을 곱했으니 내림차순으로 바뀜.\n",
        "    if id_to_word[i] == query:\n",
        "      continue\n",
        "    print(' %s: %s' %(id_to_word[i], similarity[i]))\n",
        "\n",
        "    count += 1\n",
        "    if count >= top:\n",
        "      return"
      ],
      "execution_count": null,
      "outputs": []
    },
    {
      "cell_type": "code",
      "metadata": {
        "id": "h0FkvwszGruk",
        "colab_type": "code",
        "colab": {
          "base_uri": "https://localhost:8080/",
          "height": 140
        },
        "outputId": "b35a8bab-cb1c-4742-9623-a2cf3f1d43d9"
      },
      "source": [
        "corpus, word_to_id, id_to_word = preprocess(text)\n",
        "C = create_co_matrix(corpus, vocab_size)\n",
        "most_similar('you', word_to_id, id_to_word, C)"
      ],
      "execution_count": null,
      "outputs": [
        {
          "output_type": "stream",
          "text": [
            "\n",
            "[query]you\n",
            " goodbye: 0.7071067691154799\n",
            " i: 0.7071067691154799\n",
            " hello: 0.7071067691154799\n",
            " say: 0.0\n",
            " and: 0.0\n"
          ],
          "name": "stdout"
        }
      ]
    },
    {
      "cell_type": "code",
      "metadata": {
        "id": "jDD55JTMKSL7",
        "colab_type": "code",
        "colab": {
          "base_uri": "https://localhost:8080/",
          "height": 52
        },
        "outputId": "c2a66641-144a-4b40-ecc1-a702ec0237ab"
      },
      "source": [
        "# argsort()의 의미를 잘 생각해 볼 것.\n",
        "x = np.array([100, -20, 2]) \n",
        "print(x.argsort()) # 오름차순 정렬\n",
        "print((-x).argsort()) # 각 원소에 -1을 곱했으니 내림차순 정렬이 됨."
      ],
      "execution_count": null,
      "outputs": [
        {
          "output_type": "stream",
          "text": [
            "[1 2 0]\n",
            "[0 2 1]\n"
          ],
          "name": "stdout"
        }
      ]
    },
    {
      "cell_type": "code",
      "metadata": {
        "id": "SIAI03HtKvnE",
        "colab_type": "code",
        "colab": {
          "base_uri": "https://localhost:8080/",
          "height": 140
        },
        "outputId": "16606b27-90de-4704-f27d-d43a528191a3"
      },
      "source": [
        "import sys, os\n",
        "os.chdir(\"/content/drive/My Drive/Colab Notebooks/deep-learning-from-scratch-2-master/deep-learning-from-scratch-2-master\")\n",
        "sys.path.append(os.pardir)\n",
        "\n",
        "from common.util import preprocess, create_co_matrix, most_similar\n",
        "\n",
        "text = 'You say goodbye and I say hello.'\n",
        "corpus, word_to_id, id_to_word = preprocess(text)\n",
        "vocab_size = len(word_to_id) \n",
        "# word to id {'you': 0, 'say': 1, 'goodbye': 2, 'and': 3, 'i': 4, 'hello': 5, '.': 6} \n",
        "# 단어들을 어떤 value로 표현해준다고 생각하면 쉬움.\n",
        "C = create_co_matrix(corpus, vocab_size)\n",
        "\n",
        "most_similar('you', word_to_id, id_to_word, C, top=5)\n",
        "\n",
        "# 위의 코드는 기존 적어놨던 코드를 이용해서 구현했음."
      ],
      "execution_count": null,
      "outputs": [
        {
          "output_type": "stream",
          "text": [
            "\n",
            "[query] you\n",
            " goodbye: 0.7071067691154799\n",
            " i: 0.7071067691154799\n",
            " hello: 0.7071067691154799\n",
            " say: 0.0\n",
            " and: 0.0\n"
          ],
          "name": "stdout"
        }
      ]
    },
    {
      "cell_type": "code",
      "metadata": {
        "id": "2kn6gEfcLqK0",
        "colab_type": "code",
        "colab": {}
      },
      "source": [
        "# 상호정보량\n",
        "# x,y의 관련성에 대해 설명하는 내용인데 얼마나 많이 등장하느냐에 대한 확률로 표현함.\n",
        "# 이것이 왜 중요하냐면, 예컨대 the, car, drive 사이의 양의 상호정보량에 대해 생각을 해보자.\n",
        "# 분명히 car 앞에는 the가 많이 붙어있을 것임. 그러나 car는 the와 별로 관련이 없는 단어이고 오히려 drive와 관련이 큼.\n",
        "# 예로, the가 1000번, car가 20번, drive가 10번 등장하는 말뭉치가 있다고 가정해봄.\n",
        "# 이 때, the와 car가 동시에 등장하는 횟수는 10 , car와 drive가 동시에 등장하는 횟수는 5라고 생각해보자.\n",
        "# 이러면 상호정보량은 당연히 car와 drive 사이에서의 값이 더 높음. \n",
        "# 왜냐면 the는 car가 아니어도 많이 나오기 때문. 즉 독립적으로 나오는 횟수를 고려하기 때문임.\n",
        "# 근데 여기서, log 함수를 사용하기 때문에 log가 0에 가까워지면, 즉 x,y가 출현을 거의 안한다면 문제가 됨.\n",
        "# 따라서 PPMI = max(0,PMI(x,y)) 로 양의 값으로 바꿔주면 계산에 아주 유용할 듯."
      ],
      "execution_count": null,
      "outputs": []
    },
    {
      "cell_type": "code",
      "metadata": {
        "id": "_ziQpdRVNTKq",
        "colab_type": "code",
        "colab": {}
      },
      "source": [
        "# 단어 사이의 관련성을 0 이상의 실수로 나타내는 함수\n",
        "# verbose는 진행상황 출력 여부를 결정하는 플래그\n",
        "# 큰 말뭉치를 다룰 때 verbose= True 로 설정하면 중간중간 진행 상황을 알려줌.\n",
        "def ppmi(C, verbose=False, eps = 1e-8):   \n",
        "  M = np.zeros_like(C, dtype=np.float32)\n",
        "  N = np.sum(C)\n",
        "  S = np.sum(C, axis=0)\n",
        "  total = C.shpae[0] * C.shape[1]\n",
        "  cnt = 0\n",
        "\n",
        "  for i in range(C.shape[0]):\n",
        "    for j in range(C.shape[1]):\n",
        "      pmi = np.log2(C[i, j] * N / (S[j]*S[i] + eps)) # log2는 밑이 2인 로그\n",
        "      M[i, j] = max(0, pmi)\n",
        "\n",
        "      if verbose:\n",
        "        cnt += 1\n",
        "        if cnt % (total // 100) == 0:\n",
        "          print('%.1f%% 완료' %(100*cnt/total))\n",
        "  return M\n",
        "\n",
        "# 이 코드는 동시발생 행렬에 대해서만 PPMI 행렬을 구할 수 있도록 하고자 단순화 해서 구현했음.\n"
      ],
      "execution_count": null,
      "outputs": []
    },
    {
      "cell_type": "code",
      "metadata": {
        "id": "pSA7X3B8OR39",
        "colab_type": "code",
        "colab": {
          "base_uri": "https://localhost:8080/",
          "height": 316
        },
        "outputId": "669f50cf-2c50-45fc-ddcd-b3fe4a7d7594"
      },
      "source": [
        "# 동시발생 행렬을 PPMI 행렬로 변환해보자.\n",
        "import sys, os\n",
        "os.chdir(\"/content/drive/My Drive/Colab Notebooks/deep-learning-from-scratch-2-master/deep-learning-from-scratch-2-master\")\n",
        "sys.path.append(os.pardir)\n",
        "import numpy as np\n",
        "from common.util import preprocess, create_co_matrix, cos_similarity, ppmi\n",
        "\n",
        "text = 'You say goodbye and I say hello.'\n",
        "corpus, word_to_id, id_to_word = preprocess(text)\n",
        "vocab_size = len(word_to_id)\n",
        "C = create_co_matrix(corpus, vocab_size)\n",
        "W = ppmi(C)\n",
        "\n",
        "np.set_printoptions(precision=3) # 유효 자릿수를 세 자리로 표시\n",
        "print('동시발생 행렬')\n",
        "print(C)\n",
        "print('-'* 50)\n",
        "print('PPMI')\n",
        "print(W)\n"
      ],
      "execution_count": null,
      "outputs": [
        {
          "output_type": "stream",
          "text": [
            "동시발생 행렬\n",
            "[[0 1 0 0 0 0 0]\n",
            " [1 0 1 0 1 1 0]\n",
            " [0 1 0 1 0 0 0]\n",
            " [0 0 1 0 1 0 0]\n",
            " [0 1 0 1 0 0 0]\n",
            " [0 1 0 0 0 0 1]\n",
            " [0 0 0 0 0 1 0]]\n",
            "--------------------------------------------------\n",
            "PPMI\n",
            "[[0.    1.807 0.    0.    0.    0.    0.   ]\n",
            " [1.807 0.    0.807 0.    0.807 0.807 0.   ]\n",
            " [0.    0.807 0.    1.807 0.    0.    0.   ]\n",
            " [0.    0.    1.807 0.    1.807 0.    0.   ]\n",
            " [0.    0.807 0.    1.807 0.    0.    0.   ]\n",
            " [0.    0.807 0.    0.    0.    0.    2.807]\n",
            " [0.    0.    0.    0.    0.    2.807 0.   ]]\n"
          ],
          "name": "stdout"
        }
      ]
    },
    {
      "cell_type": "code",
      "metadata": {
        "id": "ZLdfTJEyQDoH",
        "colab_type": "code",
        "colab": {}
      },
      "source": [
        "# 차원감소\n",
        "# PPMI 행렬에도 큰 문제가 있음. 말뭉치의 어휘 수가 10만 개라면 그 벡터의 차원 수도 똑같이 10만이 됨.\n",
        "# 10만 차원의 벡터를 다룬다는 것은 그다지 현실적이지 않음.\n",
        "# 행렬의 내용을 들여다보면 원소 대부분이 0인 것을 알 수 있음. \n",
        "# 벡터의 원소 대부분이 중요하지 않다는 뜻인데 그렇다면 '중요한 정보'는 최대한 유지하면서 차원을 줄이는게 핵심이 됨.\n",
        "# 새로운 축을 도입하여 똑같은 데이터를 좌표축 하나만으로 표시한 그림 확인.\n",
        "# 여기서 중요한 것은 가장 적합한 축을 찾아내는 일로, 1차원 값만으로도 데이터의 본질적인 차이를 구별할 수 있어야 함.\n",
        "# 그 방법으로 SVD 방법을 사용함. 책을 확인하면 더 자세하게 나와있음."
      ],
      "execution_count": null,
      "outputs": []
    },
    {
      "cell_type": "code",
      "metadata": {
        "id": "N6n6ztCyRb_W",
        "colab_type": "code",
        "colab": {}
      },
      "source": [
        "# SVD를 파이썬 코드로 살펴보자. \n",
        "# linalg 모듈이 제공하는 svd 메서드로 실행할 수 있음. linalg는 선형대수의 약어임.\n",
        "import os, sys\n",
        "os.chdir(\"/content/drive/My Drive/Colab Notebooks/deep-learning-from-scratch-2-master/deep-learning-from-scratch-2-master\")\n",
        "sys.path.append(os.pardir)\n",
        "import numpy as np\n",
        "import matplotlib.pyplot as plt\n",
        "from common.util import preprocess, create_co_matrix, ppmi\n",
        "\n",
        "text = 'You say goodbye and I say hello.'\n",
        "corpus, word_to_id, id_to_word = preprocess(text)\n",
        "vocab_size = len(id_to_word)\n",
        "C = create_co_matrix(corpus, vocab_size, window_size = 1)\n",
        "W = ppmi(C)\n",
        "\n",
        "# SVD\n",
        "U, S, V = np.linalg.svd(W)\n",
        "\n",
        "# 동시 발생 행렬을 만들어 PPMI 행렬로 변환한 다음 SVD를 적용시킴."
      ],
      "execution_count": null,
      "outputs": []
    },
    {
      "cell_type": "code",
      "metadata": {
        "id": "PnJc6l_dR9sO",
        "colab_type": "code",
        "colab": {
          "base_uri": "https://localhost:8080/",
          "height": 105
        },
        "outputId": "3ecd66f4-38f2-4cf6-9a46-94c55ae9dbf5"
      },
      "source": [
        "print(C[0]) # 동시발생 행렬\n",
        "print(W[0]) # PPMI 행렬\n",
        "print(U[0]) # SVD\n",
        "print(U[0, :2]) # 2차원 벡터로 줄이려면 단순히 처음의 두 원소를 꺼내면 됨."
      ],
      "execution_count": null,
      "outputs": [
        {
          "output_type": "stream",
          "text": [
            "[0 1 0 0 0 0 0]\n",
            "[0.    1.807 0.    0.    0.    0.    0.   ]\n",
            "[ 3.409e-01  0.000e+00 -1.205e-01 -3.886e-16 -9.323e-01 -1.110e-16\n",
            " -2.426e-17]\n",
            "[0.341 0.   ]\n"
          ],
          "name": "stdout"
        }
      ]
    },
    {
      "cell_type": "code",
      "metadata": {
        "id": "YVvm1l-3SLLj",
        "colab_type": "code",
        "colab": {
          "base_uri": "https://localhost:8080/",
          "height": 265
        },
        "outputId": "a52d1d8e-e312-4655-e05b-a7dd23f82150"
      },
      "source": [
        "for word, word_id in word_to_id.items():\n",
        "  plt.annotate(word, (U[word_id, 0], U[word_id, 1]))\n",
        "\n",
        "plt.scatter(U[:,0], U[:,1], alpha=0.5)\n",
        "plt.show()\n",
        "\n",
        "# plt.annotate(word,x,y) 메서드는 2차원 그래프상에서 좌표(x,y) 지점에 word에 담긴 텍스트를 그림.\n",
        "# 그림을 보면 goodbye 와 hello, you, i 가 제법 가까이 있음을 알 수 있음."
      ],
      "execution_count": null,
      "outputs": [
        {
          "output_type": "display_data",
          "data": {
            "image/png": "[encoded data removed]",
            "text/plain": [
              "<Figure size 432x288 with 1 Axes>"
            ]
          },
          "metadata": {
            "tags": [],
            "needs_background": "light"
          }
        }
      ]
    },
    {
      "cell_type": "code",
      "metadata": {
        "id": "OxTXyAlZSjCr",
        "colab_type": "code",
        "colab": {
          "base_uri": "https://localhost:8080/",
          "height": 210
        },
        "outputId": "b1bacf4b-19bc-44e7-c9c9-487d043c8364"
      },
      "source": [
        "import sys, os\n",
        "os.chdir(\"/content/drive/My Drive/Colab Notebooks/deep-learning-from-scratch-2-master/deep-learning-from-scratch-2-master\")\n",
        "sys.path.append(os.chdir)\n",
        "\n",
        "from dataset import ptb\n",
        "\n",
        "corpus, word_to_id, id_to_word = ptb.load_data('train')\n",
        "\n",
        "print('말뭉치 크기:' , len(corpus))\n",
        "print('corpus[:30]', corpus[:30])\n",
        "print()\n",
        "print('id_to_word[0]:', id_to_word[0])\n",
        "print('id_to_word[1]:', id_to_word[1])\n",
        "print('id_to_word[2]:', id_to_word[2])\n",
        "print()\n",
        "print(\"word_to_id['car']:\", word_to_id['car'])\n",
        "print(\"word_to_id['happy']:\", word_to_id['happy'])\n",
        "print(\"word_to_id['lexus']:\", word_to_id['lexus'])\n"
      ],
      "execution_count": null,
      "outputs": [
        {
          "output_type": "stream",
          "text": [
            "말뭉치 크기: 929589\n",
            "corpus[:30] [ 0  1  2  3  4  5  6  7  8  9 10 11 12 13 14 15 16 17 18 19 20 21 22 23\n",
            " 24 25 26 27 28 29]\n",
            "\n",
            "id_to_word[0]: aer\n",
            "id_to_word[1]: banknote\n",
            "id_to_word[2]: berlitz\n",
            "\n",
            "word_to_id['car']: 3856\n",
            "word_to_id['happy']: 4428\n",
            "word_to_id['lexus']: 7426\n"
          ],
          "name": "stdout"
        }
      ]
    },
    {
      "cell_type": "code",
      "metadata": {
        "id": "H6TlThHF4lnm",
        "colab_type": "code",
        "colab": {
          "base_uri": "https://localhost:8080/",
          "height": 1000
        },
        "outputId": "eba00f94-3d72-4695-dd75-c4a3e6079cc0"
      },
      "source": [
        "import sys\n",
        "os.chdir(\"/content/drive/My Drive/Colab Notebooks/deep-learning-from-scratch-2-master/deep-learning-from-scratch-2-master\")\n",
        "sys.path.append(os.pardir)\n",
        "import numpy as np\n",
        "from common.util import most_similar, create_co_matrix, ppmi\n",
        "from dataset import ptb\n",
        "\n",
        "window_size = 2\n",
        "wordvec_size = 100\n",
        "\n",
        "corpus, word_to_id, id_to_word = ptb.load_data('train')\n",
        "vocab_size = len(word_to_id)\n",
        "print('동시발생 수 계산 ...')\n",
        "C = create_co_matrix(corpus, vocab_size, window_size) \n",
        "# 윈도우 크기가 2면 타깃 단어 좌우 2단어씩을 맥락에 포함\n",
        "print('PPMI 계산 ...')\n",
        "W = ppmi(C, verbose=True)\n",
        "\n",
        "print('SVD 계산 ...')\n",
        "try:\n",
        "  # truncated SVD( 빠르다! )\n",
        "  from sklearn.utils.extmath import randomized_svd\n",
        "  U, S, V = randomized_svd(W, n_components = wordvec_size, n_iter=5, random_state=None)\n",
        "\n",
        "except ImportError:\n",
        "  # SVD (느리다)\n",
        "  U, S, V = np.linalg.svd(W)\n",
        "\n",
        "word_vecs = U[:, :wordvec_size] # U의 행전체, 열은 100까지만. (차원축소 인듯.)\n",
        " \n",
        "querys = ['you', 'year', 'car', 'toyota']\n",
        "for query in querys:\n",
        "  most_similar(query, word_to_id, id_to_word, word_vecs, top = 5)\n"
      ],
      "execution_count": null,
      "outputs": [
        {
          "output_type": "stream",
          "text": [
            "동시발생 수 계산 ...\n",
            "PPMI 계산 ...\n",
            "1.0% 완료\n",
            "2.0% 완료\n",
            "3.0% 완료\n",
            "4.0% 완료\n",
            "5.0% 완료\n",
            "6.0% 완료\n",
            "7.0% 완료\n",
            "8.0% 완료\n",
            "9.0% 완료\n",
            "10.0% 완료\n",
            "11.0% 완료\n",
            "12.0% 완료\n",
            "13.0% 완료\n",
            "14.0% 완료\n",
            "15.0% 완료\n",
            "16.0% 완료\n",
            "17.0% 완료\n",
            "18.0% 완료\n",
            "19.0% 완료\n",
            "20.0% 완료\n",
            "21.0% 완료\n",
            "22.0% 완료\n",
            "23.0% 완료\n",
            "24.0% 완료\n",
            "25.0% 완료\n",
            "26.0% 완료\n",
            "27.0% 완료\n",
            "28.0% 완료\n",
            "29.0% 완료\n",
            "30.0% 완료\n",
            "31.0% 완료\n",
            "32.0% 완료\n",
            "33.0% 완료\n",
            "34.0% 완료\n",
            "35.0% 완료\n",
            "36.0% 완료\n",
            "37.0% 완료\n",
            "38.0% 완료\n",
            "39.0% 완료\n",
            "40.0% 완료\n",
            "41.0% 완료\n",
            "42.0% 완료\n",
            "43.0% 완료\n",
            "44.0% 완료\n",
            "45.0% 완료\n",
            "46.0% 완료\n",
            "47.0% 완료\n",
            "48.0% 완료\n",
            "49.0% 완료\n",
            "50.0% 완료\n",
            "51.0% 완료\n",
            "52.0% 완료\n",
            "53.0% 완료\n",
            "54.0% 완료\n",
            "55.0% 완료\n",
            "56.0% 완료\n",
            "57.0% 완료\n",
            "58.0% 완료\n",
            "59.0% 완료\n",
            "60.0% 완료\n",
            "61.0% 완료\n",
            "62.0% 완료\n",
            "63.0% 완료\n",
            "64.0% 완료\n",
            "65.0% 완료\n",
            "66.0% 완료\n",
            "67.0% 완료\n",
            "68.0% 완료\n",
            "69.0% 완료\n",
            "70.0% 완료\n",
            "71.0% 완료\n",
            "72.0% 완료\n",
            "73.0% 완료\n",
            "74.0% 완료\n",
            "75.0% 완료\n",
            "76.0% 완료\n",
            "77.0% 완료\n",
            "78.0% 완료\n",
            "79.0% 완료\n",
            "80.0% 완료\n",
            "81.0% 완료\n",
            "82.0% 완료\n",
            "83.0% 완료\n",
            "84.0% 완료\n",
            "85.0% 완료\n",
            "86.0% 완료\n",
            "87.0% 완료\n",
            "88.0% 완료\n",
            "89.0% 완료\n",
            "90.0% 완료\n",
            "91.0% 완료\n",
            "92.0% 완료\n",
            "93.0% 완료\n",
            "94.0% 완료\n",
            "95.0% 완료\n",
            "96.0% 완료\n",
            "97.0% 완료\n",
            "98.0% 완료\n",
            "99.0% 완료\n",
            "100.0% 완료\n",
            "SVD 계산 ...\n",
            "\n",
            "[query] you\n",
            " i: 0.6468660831451416\n",
            " we: 0.6108704805374146\n",
            " anybody: 0.6040822863578796\n",
            " do: 0.5814424157142639\n",
            " always: 0.5622100234031677\n",
            "\n",
            "[query] year\n",
            " month: 0.729286253452301\n",
            " quarter: 0.6694890260696411\n",
            " earlier: 0.6335133910179138\n",
            " february: 0.6110854744911194\n",
            " last: 0.5926453471183777\n",
            "\n",
            "[query] car\n",
            " auto: 0.6244403719902039\n",
            " luxury: 0.6134950518608093\n",
            " truck: 0.5803208351135254\n",
            " vehicle: 0.5529912114143372\n",
            " cars: 0.5499685406684875\n",
            "\n",
            "[query] toyota\n",
            " motor: 0.7061044573783875\n",
            " nissan: 0.6875864863395691\n",
            " motors: 0.6356449723243713\n",
            " honda: 0.6053351759910583\n",
            " lexus: 0.5914918780326843\n"
          ],
          "name": "stdout"
        }
      ]
    },
    {
      "cell_type": "markdown",
      "metadata": {
        "id": "-jJfSu7MfnTe",
        "colab_type": "text"
      },
      "source": [
        "## 3장 - word2vec"
      ]
    },
    {
      "cell_type": "code",
      "metadata": {
        "id": "h-QnQkiofF6p",
        "colab_type": "code",
        "colab": {}
      },
      "source": [
        ""
      ],
      "execution_count": null,
      "outputs": []
    }
  ]
}